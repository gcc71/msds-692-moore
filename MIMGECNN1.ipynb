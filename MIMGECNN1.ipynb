{
 "cells": [
  {
   "cell_type": "code",
   "execution_count": 1,
   "id": "c437141d-0d06-457f-b59a-af91768eb418",
   "metadata": {
    "tags": []
   },
   "outputs": [
    {
     "name": "stderr",
     "output_type": "stream",
     "text": [
      "C:\\Users\\genem\\AppData\\Local\\Temp\\ipykernel_22072\\1626578490.py:1: DeprecationWarning: Importing display from IPython.core.display is deprecated since IPython 7.14, please import from IPython display\n",
      "  from IPython.core.display import display, HTML\n"
     ]
    },
    {
     "data": {
      "text/html": [],
      "text/plain": [
       "<IPython.core.display.HTML object>"
      ]
     },
     "metadata": {},
     "output_type": "display_data"
    }
   ],
   "source": [
    "from IPython.core.display import display, HTML\n",
    "display(HTML(\"\"))"
   ]
  },
  {
   "cell_type": "code",
   "execution_count": 2,
   "id": "8906e3dd-2e44-4992-82d7-1aebf77cbbdc",
   "metadata": {
    "tags": []
   },
   "outputs": [
    {
     "name": "stdout",
     "output_type": "stream",
     "text": [
      "WARNING:tensorflow:From C:\\Users\\genem\\anaconda3\\Lib\\site-packages\\keras\\src\\losses.py:2976: The name tf.losses.sparse_softmax_cross_entropy is deprecated. Please use tf.compat.v1.losses.sparse_softmax_cross_entropy instead.\n",
      "\n"
     ]
    }
   ],
   "source": [
    "from tensorflow.keras import backend as K\n",
    "from tensorflow.keras import backend\n",
    "from tensorflow.keras import models\n",
    "from tensorflow.keras import layers\n",
    "from tensorflow.keras import optimizers\n",
    "from tensorflow.keras.utils import to_categorical\n",
    "import numpy as np\n",
    "import matplotlib.pyplot as plt\n",
    "from tensorflow.keras import regularizers\n",
    "from tensorflow.keras.layers import BatchNormalization\n",
    "from tensorflow.keras.callbacks import EarlyStopping\n",
    "from sklearn.model_selection import train_test_split\n",
    "from tensorflow.keras.utils import to_categorical\n",
    "from IPython.display import display # Library to help view images\n",
    "from PIL import Image # Library to help view images\n",
    "from tensorflow.keras.preprocessing.image import ImageDataGenerator # Library for data augmentation\n",
    "from tensorflow.keras.preprocessing import image\n",
    "import os, shutil # Library for navigating files\n",
    "# from google.colab import drive # Library to mount google drives\n",
    "np.random.seed(1)"
   ]
  },
  {
   "cell_type": "code",
   "execution_count": 3,
   "id": "01042ed2-70b6-4fa1-86a5-d07f87091a46",
   "metadata": {
    "tags": []
   },
   "outputs": [
    {
     "name": "stdout",
     "output_type": "stream",
     "text": [
      "2.15.0\n"
     ]
    }
   ],
   "source": [
    "import tensorflow as tf\n",
    "print(tf.__version__)\n"
   ]
  },
  {
   "cell_type": "code",
   "execution_count": 4,
   "id": "8c6a4665-3cec-46ec-8ce1-e4eced3b345b",
   "metadata": {
    "tags": []
   },
   "outputs": [
    {
     "name": "stdout",
     "output_type": "stream",
     "text": [
      "Python 3.11.4\n"
     ]
    }
   ],
   "source": [
    "!python --version"
   ]
  },
  {
   "cell_type": "markdown",
   "id": "aaf677b4-316c-4965-bd41-133aac5dbf09",
   "metadata": {},
   "source": [
    "## Check Data Set\n",
    "In this section I'm simply setting up directory path variables to stream data from disk into my model. This section follow the examples provided in the Deep Learning course Week 5."
   ]
  },
  {
   "cell_type": "code",
   "execution_count": 6,
   "id": "3d57e658-d6cd-4379-bbca-d9d5a811981f",
   "metadata": {},
   "outputs": [],
   "source": [
    "base_dir = 'bvsc'"
   ]
  },
  {
   "cell_type": "code",
   "execution_count": 7,
   "id": "976bb113-f47d-4a3c-b482-14af5db35ff0",
   "metadata": {
    "tags": []
   },
   "outputs": [],
   "source": [
    "# Specify the traning, validation, and test dirrectories.\n",
    "train_dir = os.path.join(base_dir, 'train')\n",
    "validation_dir = os.path.join(base_dir, 'validation')\n",
    "test_dir = os.path.join(base_dir, 'test')"
   ]
  },
  {
   "cell_type": "code",
   "execution_count": 12,
   "id": "8d10973d-c691-43a0-8d73-368454fef690",
   "metadata": {
    "tags": []
   },
   "outputs": [],
   "source": [
    "# Specify the the classess in the training, validataion, and test dirrectories\n",
    "train_cfiles_dir = os.path.join(train_dir, 'cFiles')\n",
    "train_bfiles_dir = os.path.join(train_dir, 'bFiles')"
   ]
  },
  {
   "cell_type": "code",
   "execution_count": 16,
   "id": "f6f93ccb-709c-4600-882e-05b8961a8026",
   "metadata": {
    "tags": []
   },
   "outputs": [],
   "source": [
    "validation_cfiles_dir = os.path.join(validation_dir, 'cFiles')\n",
    "validation_bfiles_dir = os.path.join(validation_dir, 'bFiles')"
   ]
  },
  {
   "cell_type": "code",
   "execution_count": 17,
   "id": "a1f0a9b2-2e83-4095-8992-e95bac71ae95",
   "metadata": {
    "tags": []
   },
   "outputs": [],
   "source": [
    "test_cfiles_dir = os.path.join(test_dir, 'cFiles')\n",
    "test_bfiles_dir = os.path.join(test_dir, 'bFiles')"
   ]
  },
  {
   "cell_type": "code",
   "execution_count": 18,
   "id": "2013dc8c-2edf-4aa8-8ae9-ccec98426097",
   "metadata": {
    "tags": []
   },
   "outputs": [
    {
     "name": "stdout",
     "output_type": "stream",
     "text": [
      "1000\n",
      "1000\n",
      "500\n",
      "500\n",
      "500\n",
      "500\n"
     ]
    }
   ],
   "source": [
    "# Check the number of files in each class dirrectory\n",
    "print(len(os.listdir(train_cfiles_dir)))\n",
    "print(len(os.listdir(train_bfiles_dir)))\n",
    "print(len(os.listdir(validation_cfiles_dir)))\n",
    "print(len(os.listdir(validation_bfiles_dir)))\n",
    "print(len(os.listdir(test_cfiles_dir)))\n",
    "print(len(os.listdir(test_bfiles_dir)))"
   ]
  },
  {
   "cell_type": "markdown",
   "id": "2735096b-7664-4648-9e4e-023b68b510e2",
   "metadata": {},
   "source": [
    "### Setup Data Generator\n",
    "In this section we setup parameters for the image data flow from the directory structure."
   ]
  },
  {
   "cell_type": "code",
   "execution_count": 25,
   "id": "172edee9-83a2-44e0-9f77-aac9a81505a2",
   "metadata": {
    "tags": []
   },
   "outputs": [],
   "source": [
    "# We need to normalize the pixels in the images.  The data will 'flow' through this generator.\n",
    "train_datagen = ImageDataGenerator(rescale=1./255)\n",
    "test_datagen = ImageDataGenerator(rescale=1./255)"
   ]
  },
  {
   "cell_type": "code",
   "execution_count": 26,
   "id": "3cb9a5d7-4fdf-4607-b898-55dae38845d3",
   "metadata": {
    "tags": []
   },
   "outputs": [
    {
     "name": "stdout",
     "output_type": "stream",
     "text": [
      "Found 2000 images belonging to 2 classes.\n",
      "Found 1000 images belonging to 2 classes.\n",
      "Found 1000 images belonging to 2 classes.\n"
     ]
    }
   ],
   "source": [
    "# Since the file images are in a directory we need to move them from the directory into the model.\n",
    "# Keras as a function that makes this easy. Documentaion is here: https://keras.io/preprocessing/image/\n",
    "\n",
    "train_generator = train_datagen.flow_from_directory(\n",
    "    train_dir, # The directory where the train data is located\n",
    "    target_size=(150, 150), # Reshape the image to 150 by 150 pixels. This is important because it makes sure all images are the same size.\n",
    "    batch_size=20, # We will take images in batches of 20.\n",
    "    class_mode='binary') # The classification is binary.\n",
    "\n",
    "validataion_generator = train_datagen.flow_from_directory(\n",
    "    validation_dir,\n",
    "    target_size=(150, 150),\n",
    "    batch_size=20,\n",
    "    class_mode='binary')\n",
    "\n",
    "test_generator = test_datagen.flow_from_directory(\n",
    "    test_dir,\n",
    "    target_size=(150, 150),\n",
    "    batch_size=20,\n",
    "    class_mode='binary')"
   ]
  },
  {
   "cell_type": "markdown",
   "id": "7ab66160-30c8-4607-ae82-500baeb2eb64",
   "metadata": {},
   "source": [
    "**Note:** make sure to remove your .ipynb_checkpoints or any other hidden folders or files as this will cause the train generator to find more classes. [1]"
   ]
  },
  {
   "cell_type": "code",
   "execution_count": 27,
   "id": "9f472da1-1e3c-478f-a42e-891386dce0dc",
   "metadata": {
    "tags": []
   },
   "outputs": [],
   "source": [
    "# Build a plotting function\n",
    "def plot_history():\n",
    "  history_dict = history.history\n",
    "  loss_values = history_dict['loss']\n",
    "  val_loss_values = history_dict['val_loss']\n",
    "  acc_values = history_dict['accuracy']\n",
    "  val_acc_values = history_dict['val_accuracy']\n",
    "  epochs = range(1, len(history_dict['accuracy']) + 1)\n",
    "\n",
    "  plt.plot(epochs, loss_values, 'bo', label = 'Training loss')\n",
    "  plt.plot(epochs, val_loss_values, 'b', label = 'Validation loss')\n",
    "  plt.title('Training and validation loss')\n",
    "  plt.xlabel('Epochs')\n",
    "  plt.ylabel('Loss')\n",
    "  plt.legend()\n",
    "  plt.show()\n",
    "\n",
    "  plt.plot(epochs, acc_values, 'bo', label = 'Training accuracy')\n",
    "  plt.plot(epochs, val_acc_values, 'b', label = 'Validation accuracy')\n",
    "  plt.title('Training and validation accuracy')\n",
    "  plt.xlabel('Epochs')\n",
    "  plt.ylabel('Accuracy')\n",
    "  plt.legend()\n",
    "  return plt.show()"
   ]
  },
  {
   "cell_type": "code",
   "execution_count": 28,
   "id": "f2781855-18b7-4a7d-8af9-a736d26be514",
   "metadata": {
    "tags": []
   },
   "outputs": [],
   "source": [
    "# Build a model\n",
    "def Base_CNN():\n",
    "  backend.clear_session()\n",
    "  model = models.Sequential()\n",
    "\n",
    "  model.add(layers.Conv2D(32, (3,3), activation = 'relu', input_shape = (150, 150, 3)))\n",
    "  model.add(layers.MaxPool2D((2,2)))\n",
    "  model.add(BatchNormalization())\n",
    "\n",
    "  model.add(layers.Conv2D(32, (3,3), activation = 'relu'))\n",
    "  model.add(layers.MaxPool2D((2,2)))\n",
    "  model.add(BatchNormalization())\n",
    "\n",
    "  model.add(layers.Conv2D(32, (3,3), activation = 'relu'))\n",
    "  model.add(layers.MaxPool2D((2,2)))\n",
    "  model.add(BatchNormalization())\n",
    "\n",
    "  model.add(layers.Flatten())\n",
    "  model.add(layers.Dense(64, activation='relu'))\n",
    "  model.add(layers.Dropout(0.5))\n",
    "\n",
    "  model.add(layers.Dense(1, activation='sigmoid'))\n",
    "\n",
    "  model.compile(optimizer = 'rmsprop',\n",
    "                loss = 'binary_crossentropy',\n",
    "                metrics = ['accuracy'])\n",
    "  return model"
   ]
  },
  {
   "cell_type": "code",
   "execution_count": 23,
   "id": "c266a9a2-1222-412f-91de-f090e11c97a1",
   "metadata": {
    "tags": []
   },
   "outputs": [
    {
     "name": "stdout",
     "output_type": "stream",
     "text": [
      "WARNING:tensorflow:From C:\\Users\\genem\\anaconda3\\Lib\\site-packages\\keras\\src\\backend.py:277: The name tf.reset_default_graph is deprecated. Please use tf.compat.v1.reset_default_graph instead.\n",
      "\n",
      "WARNING:tensorflow:From C:\\Users\\genem\\anaconda3\\Lib\\site-packages\\keras\\src\\layers\\pooling\\max_pooling2d.py:161: The name tf.nn.max_pool is deprecated. Please use tf.nn.max_pool2d instead.\n",
      "\n",
      "WARNING:tensorflow:From C:\\Users\\genem\\anaconda3\\Lib\\site-packages\\keras\\src\\optimizers\\__init__.py:309: The name tf.train.Optimizer is deprecated. Please use tf.compat.v1.train.Optimizer instead.\n",
      "\n"
     ]
    }
   ],
   "source": [
    "model = Base_CNN()"
   ]
  },
  {
   "cell_type": "code",
   "execution_count": 29,
   "id": "d3cdfccb-15d8-4f82-a76a-df84389369fa",
   "metadata": {
    "tags": []
   },
   "outputs": [
    {
     "name": "stdout",
     "output_type": "stream",
     "text": [
      "Epoch 1/50\n",
      "50/50 [==============================] - 6s 129ms/step - loss: 17.1442 - accuracy: 0.8650 - val_loss: 41.5892 - val_accuracy: 0.5000\n",
      "Epoch 2/50\n",
      "50/50 [==============================] - 6s 118ms/step - loss: 2.9648 - accuracy: 0.9400 - val_loss: 48.3632 - val_accuracy: 0.5000\n",
      "Epoch 3/50\n",
      "50/50 [==============================] - 6s 117ms/step - loss: 1.2821 - accuracy: 0.9770 - val_loss: 37.7226 - val_accuracy: 0.5000\n",
      "Epoch 4/50\n",
      "50/50 [==============================] - 6s 114ms/step - loss: 0.2793 - accuracy: 0.9790 - val_loss: 45.5793 - val_accuracy: 0.5000\n"
     ]
    },
    {
     "data": {
      "image/png": "[encoded data removed]",
      "text/plain": [
       "<Figure size 640x480 with 1 Axes>"
      ]
     },
     "metadata": {},
     "output_type": "display_data"
    },
    {
     "data": {
      "image/png": "[encoded data removed]",
      "text/plain": [
       "<Figure size 640x480 with 1 Axes>"
      ]
     },
     "metadata": {},
     "output_type": "display_data"
    },
    {
     "name": "stdout",
     "output_type": "stream",
     "text": [
      "50/50 [==============================] - 2s 37ms/step - loss: 41.7981 - accuracy: 0.5000\n",
      "test_acc: 0.5\n"
     ]
    }
   ],
   "source": [
    "history = model.fit( # The image data must come from the image generator that takes the images from the correct dirrectory. https://keras.io/models/sequential/\n",
    "    train_generator, # Images are taken from the train_generator\n",
    "    steps_per_epoch=50, # The number of steps from the train_generator before one epoch if finished.\n",
    "                         # 100 steps * 20 batch size in train generator = 2000 training images per epoch. This way each traning image will be sampled once per epoch.\n",
    "    epochs=50, # Train data for 50 epochs\n",
    "    validation_data=validataion_generator, # Take data from the validataion generator\n",
    "    validation_steps=50, # 50 steps * 20 batch size in validation generator = 1000 validation images per epoch\n",
    "    verbose = 1,\n",
    "    callbacks=[EarlyStopping(monitor='val_accuracy', patience=3, restore_best_weights = True)]) # We will not use call backs to stop early.\n",
    "\n",
    "plot_history() # Use our plot function to plot the loss and accuracy.\n",
    "\n",
    "test_loss, test_acc =model.evaluate(test_generator, steps = 50) # Test images are in a dirrectory so they must flow from dirrectory.\n",
    "                                                                           # 50 steps * 20 batch size in test generator = 1000 test images per epoch\n",
    "print('test_acc:', test_acc)"
   ]
  },
  {
   "cell_type": "markdown",
   "id": "ae090df0-09f8-4226-9ae5-4a88f8ad2fa0",
   "metadata": {},
   "source": [
    "# Conclusion\n",
    "The results of this notebook show only a 50% accuracy  of disntiquishing a bFile from cFile with a basic setup. Although, it's complete failure in regard to the end objective it does demonstrate a working setup from data selection, engineering, and model setup to build on. My thoughts on improvment lead me to a few options:\n",
    "- Add more data, this would require finding and selecting more files. This would mean rather than select not only selecting files that are roughly in the same range of 150x150.  I could perhaps expand to files that are larger and resize as needed.\n",
    "- Attempt data augmentation. This might help but would not simulate real world usage since images generated from file data is not organic in nature\n",
    "- Experiment with parameters and layers.\n",
    "- Experiment with transfer learning by leveraging pretrained models\n",
    "- Any combination of the above"
   ]
  },
  {
   "cell_type": "markdown",
   "id": "b1aff194-6558-4211-a97c-80cb1ac5a2fd",
   "metadata": {},
   "source": [
    "# Reference\n",
    "1 Keras creating three classes instead of two. (n.d.). Stack Overflow. Retrieved February 9, 2024, from https://stackoverflow.com/questions/52609798/keras-creating-three-classes-instead-of-two\n",
    "\n"
   ]
  },
  {
   "cell_type": "code",
   "execution_count": null,
   "id": "a75e7925-8a55-4fbb-8234-a4d1ee2bb2ad",
   "metadata": {},
   "outputs": [],
   "source": []
  }
 ],
 "metadata": {
  "kernelspec": {
   "display_name": "Python 3 (ipykernel)",
   "language": "python",
   "name": "python3"
  },
  "language_info": {
   "codemirror_mode": {
    "name": "ipython",
    "version": 3
   },
   "file_extension": ".py",
   "mimetype": "text/x-python",
   "name": "python",
   "nbconvert_exporter": "python",
   "pygments_lexer": "ipython3",
   "version": "3.11.4"
  }
 },
 "nbformat": 4,
 "nbformat_minor": 5
}
