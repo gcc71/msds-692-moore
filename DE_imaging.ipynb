{
 "cells": [
  {
   "cell_type": "markdown",
   "id": "5bde78b1-7dd7-4a6b-8ff3-bba401f3fe4c",
   "metadata": {},
   "source": [
    "# Malware Image Classification with CNN"
   ]
  },
  {
   "cell_type": "code",
   "execution_count": 1,
   "id": "ae03cbe7-faf6-40e5-86be-861436906725",
   "metadata": {
    "tags": []
   },
   "outputs": [],
   "source": [
    "import mt_util as mt\n",
    "from PIL import Image\n",
    "import pandas as pd\n",
    "import matplotlib.pyplot as plt\n",
    "import math\n",
    "import numpy as np"
   ]
  },
  {
   "cell_type": "markdown",
   "id": "32d9e940-5d53-4f8f-97ef-7aff8da33e7b",
   "metadata": {},
   "source": [
    "## Create Images from Files\n",
    "In this section I've selected my drivers folder for my system because there should be a good number of binary type files. I use the mt_util library to image an entire system folder.  The default output will create a folder called /imgs. I'll use this folder to begin my EDA work. "
   ]
  },
  {
   "cell_type": "code",
   "execution_count": 2,
   "id": "ba936361-bd38-46a8-830a-0c1e50b95d9b",
   "metadata": {
    "tags": []
   },
   "outputs": [],
   "source": [
    "# src_path = 'C:\\Drivers'\n",
    "# mt.imgs_fr_dir(src_path)\n"
   ]
  },
  {
   "cell_type": "markdown",
   "id": "f1bd0994-5d02-4935-93f8-1ac73afe07a1",
   "metadata": {},
   "source": [
    "## EDA"
   ]
  },
  {
   "cell_type": "code",
   "execution_count": 3,
   "id": "f25d270f-21fe-446e-a6ee-f9bc740d9926",
   "metadata": {},
   "outputs": [
    {
     "data": {
      "text/html": [
       "<div>\n",
       "<style scoped>\n",
       "    .dataframe tbody tr th:only-of-type {\n",
       "        vertical-align: middle;\n",
       "    }\n",
       "\n",
       "    .dataframe tbody tr th {\n",
       "        vertical-align: top;\n",
       "    }\n",
       "\n",
       "    .dataframe thead th {\n",
       "        text-align: right;\n",
       "    }\n",
       "</style>\n",
       "<table border=\"1\" class=\"dataframe\">\n",
       "  <thead>\n",
       "    <tr style=\"text-align: right;\">\n",
       "      <th></th>\n",
       "      <th>path</th>\n",
       "      <th>size</th>\n",
       "      <th>file_name</th>\n",
       "      <th>file_ext</th>\n",
       "    </tr>\n",
       "  </thead>\n",
       "  <tbody>\n",
       "    <tr>\n",
       "      <th>0</th>\n",
       "      <td>imgs\\0000.ui.forms.png</td>\n",
       "      <td>8695</td>\n",
       "      <td>0000.ui.forms.png</td>\n",
       "      <td>.png</td>\n",
       "    </tr>\n",
       "    <tr>\n",
       "      <th>1</th>\n",
       "      <td>imgs\\0000.ui.strings.png</td>\n",
       "      <td>941</td>\n",
       "      <td>0000.ui.strings.png</td>\n",
       "      <td>.png</td>\n",
       "    </tr>\n",
       "    <tr>\n",
       "      <th>2</th>\n",
       "      <td>imgs\\0401.ui.forms.png</td>\n",
       "      <td>1319</td>\n",
       "      <td>0401.ui.forms.png</td>\n",
       "      <td>.png</td>\n",
       "    </tr>\n",
       "    <tr>\n",
       "      <th>3</th>\n",
       "      <td>imgs\\0401.ui.strings.png</td>\n",
       "      <td>6047</td>\n",
       "      <td>0401.ui.strings.png</td>\n",
       "      <td>.png</td>\n",
       "    </tr>\n",
       "    <tr>\n",
       "      <th>4</th>\n",
       "      <td>imgs\\0404.ui.forms.png</td>\n",
       "      <td>1391</td>\n",
       "      <td>0404.ui.forms.png</td>\n",
       "      <td>.png</td>\n",
       "    </tr>\n",
       "  </tbody>\n",
       "</table>\n",
       "</div>"
      ],
      "text/plain": [
       "                       path  size            file_name file_ext\n",
       "0    imgs\\0000.ui.forms.png  8695    0000.ui.forms.png     .png\n",
       "1  imgs\\0000.ui.strings.png   941  0000.ui.strings.png     .png\n",
       "2    imgs\\0401.ui.forms.png  1319    0401.ui.forms.png     .png\n",
       "3  imgs\\0401.ui.strings.png  6047  0401.ui.strings.png     .png\n",
       "4    imgs\\0404.ui.forms.png  1391    0404.ui.forms.png     .png"
      ]
     },
     "execution_count": 3,
     "metadata": {},
     "output_type": "execute_result"
    }
   ],
   "source": [
    "# Create the pandas DataFrame from object dictionary\n",
    "df = pd.DataFrame([o.__dict__ for o in mt.get_files('imgs')])\n",
    "\n",
    "# print dataframe.\n",
    "df.head(5)"
   ]
  },
  {
   "cell_type": "code",
   "execution_count": 4,
   "id": "029c363e-e5c9-4643-801c-d92d0687fa6e",
   "metadata": {
    "tags": []
   },
   "outputs": [
    {
     "name": "stdout",
     "output_type": "stream",
     "text": [
      "<class 'pandas.core.frame.DataFrame'>\n",
      "RangeIndex: 1271 entries, 0 to 1270\n",
      "Data columns (total 4 columns):\n",
      " #   Column     Non-Null Count  Dtype \n",
      "---  ------     --------------  ----- \n",
      " 0   path       1271 non-null   object\n",
      " 1   size       1271 non-null   int64 \n",
      " 2   file_name  1271 non-null   object\n",
      " 3   file_ext   1271 non-null   object\n",
      "dtypes: int64(1), object(3)\n",
      "memory usage: 39.8+ KB\n"
     ]
    }
   ],
   "source": [
    "df.info()"
   ]
  },
  {
   "cell_type": "code",
   "execution_count": 9,
   "id": "3aecf381-d348-432e-8348-20d472f111c2",
   "metadata": {
    "tags": []
   },
   "outputs": [],
   "source": [
    "def getHWdim(size):\n",
    "    x = int(math.sqrt(size))\n",
    "    return x \n"
   ]
  },
  {
   "cell_type": "markdown",
   "id": "d35d79fb-1e16-4397-808c-a5ec0b6da1f1",
   "metadata": {},
   "source": [
    "Much like hashing a file in malware analysis to ensure other researchers can identify with specificity which specimen under study is being analyzed, I thought it necessary to develop an algorythm that preserves the attributes of the original file to the extent possible. For this reason I opted to take the square root of the file size to determine the width and height dimenssions. I leave the resizing options to the data scientist. To find a suitable data set for my initial experiments I need survey file size and image dimensions.\n",
    "\n",
    "I create a dimension feature to add to the dataframe. The reason I need a dimension feature is to search for images of files closest to 200*200. This can provide the optimal size for use with a CNN [4][8]. My goal is to limit resizing if possible but if required I will opt for zero padding.[7] I will only need to find one dimension since the square root of the file size since is used by the mt_util to creates perfect square images from the file input."
   ]
  },
  {
   "cell_type": "code",
   "execution_count": 10,
   "id": "d661ce01-b5f1-4fea-a49d-4edf6f89f0da",
   "metadata": {
    "tags": []
   },
   "outputs": [
    {
     "data": {
      "text/html": [
       "<div>\n",
       "<style scoped>\n",
       "    .dataframe tbody tr th:only-of-type {\n",
       "        vertical-align: middle;\n",
       "    }\n",
       "\n",
       "    .dataframe tbody tr th {\n",
       "        vertical-align: top;\n",
       "    }\n",
       "\n",
       "    .dataframe thead th {\n",
       "        text-align: right;\n",
       "    }\n",
       "</style>\n",
       "<table border=\"1\" class=\"dataframe\">\n",
       "  <thead>\n",
       "    <tr style=\"text-align: right;\">\n",
       "      <th></th>\n",
       "      <th>path</th>\n",
       "      <th>size</th>\n",
       "      <th>file_name</th>\n",
       "      <th>file_ext</th>\n",
       "      <th>dim</th>\n",
       "    </tr>\n",
       "  </thead>\n",
       "  <tbody>\n",
       "    <tr>\n",
       "      <th>0</th>\n",
       "      <td>imgs\\0000.ui.forms.png</td>\n",
       "      <td>8695</td>\n",
       "      <td>0000.ui.forms.png</td>\n",
       "      <td>.png</td>\n",
       "      <td>93</td>\n",
       "    </tr>\n",
       "    <tr>\n",
       "      <th>1</th>\n",
       "      <td>imgs\\0000.ui.strings.png</td>\n",
       "      <td>941</td>\n",
       "      <td>0000.ui.strings.png</td>\n",
       "      <td>.png</td>\n",
       "      <td>30</td>\n",
       "    </tr>\n",
       "    <tr>\n",
       "      <th>2</th>\n",
       "      <td>imgs\\0401.ui.forms.png</td>\n",
       "      <td>1319</td>\n",
       "      <td>0401.ui.forms.png</td>\n",
       "      <td>.png</td>\n",
       "      <td>36</td>\n",
       "    </tr>\n",
       "    <tr>\n",
       "      <th>3</th>\n",
       "      <td>imgs\\0401.ui.strings.png</td>\n",
       "      <td>6047</td>\n",
       "      <td>0401.ui.strings.png</td>\n",
       "      <td>.png</td>\n",
       "      <td>77</td>\n",
       "    </tr>\n",
       "    <tr>\n",
       "      <th>4</th>\n",
       "      <td>imgs\\0404.ui.forms.png</td>\n",
       "      <td>1391</td>\n",
       "      <td>0404.ui.forms.png</td>\n",
       "      <td>.png</td>\n",
       "      <td>37</td>\n",
       "    </tr>\n",
       "    <tr>\n",
       "      <th>...</th>\n",
       "      <td>...</td>\n",
       "      <td>...</td>\n",
       "      <td>...</td>\n",
       "      <td>...</td>\n",
       "      <td>...</td>\n",
       "    </tr>\n",
       "    <tr>\n",
       "      <th>1266</th>\n",
       "      <td>imgs\\_nvppo.dll.png</td>\n",
       "      <td>788152</td>\n",
       "      <td>_nvppo.dll.png</td>\n",
       "      <td>.png</td>\n",
       "      <td>887</td>\n",
       "    </tr>\n",
       "    <tr>\n",
       "      <th>1267</th>\n",
       "      <td>imgs\\_nvspcaps64.dll.png</td>\n",
       "      <td>1470652</td>\n",
       "      <td>_nvspcaps64.dll.png</td>\n",
       "      <td>.png</td>\n",
       "      <td>1212</td>\n",
       "    </tr>\n",
       "    <tr>\n",
       "      <th>1268</th>\n",
       "      <td>imgs\\_nvspserviceplugin64.dll.png</td>\n",
       "      <td>846753</td>\n",
       "      <td>_nvspserviceplugin64.dll.png</td>\n",
       "      <td>.png</td>\n",
       "      <td>920</td>\n",
       "    </tr>\n",
       "    <tr>\n",
       "      <th>1269</th>\n",
       "      <td>imgs\\_nvtopps.dll.png</td>\n",
       "      <td>4396165</td>\n",
       "      <td>_nvtopps.dll.png</td>\n",
       "      <td>.png</td>\n",
       "      <td>2096</td>\n",
       "    </tr>\n",
       "    <tr>\n",
       "      <th>1270</th>\n",
       "      <td>imgs\\_OverClockingNvc.dll.png</td>\n",
       "      <td>1248031</td>\n",
       "      <td>_OverClockingNvc.dll.png</td>\n",
       "      <td>.png</td>\n",
       "      <td>1117</td>\n",
       "    </tr>\n",
       "  </tbody>\n",
       "</table>\n",
       "<p>1271 rows × 5 columns</p>\n",
       "</div>"
      ],
      "text/plain": [
       "                                   path     size  \\\n",
       "0                imgs\\0000.ui.forms.png     8695   \n",
       "1              imgs\\0000.ui.strings.png      941   \n",
       "2                imgs\\0401.ui.forms.png     1319   \n",
       "3              imgs\\0401.ui.strings.png     6047   \n",
       "4                imgs\\0404.ui.forms.png     1391   \n",
       "...                                 ...      ...   \n",
       "1266                imgs\\_nvppo.dll.png   788152   \n",
       "1267           imgs\\_nvspcaps64.dll.png  1470652   \n",
       "1268  imgs\\_nvspserviceplugin64.dll.png   846753   \n",
       "1269              imgs\\_nvtopps.dll.png  4396165   \n",
       "1270      imgs\\_OverClockingNvc.dll.png  1248031   \n",
       "\n",
       "                         file_name file_ext   dim  \n",
       "0                0000.ui.forms.png     .png    93  \n",
       "1              0000.ui.strings.png     .png    30  \n",
       "2                0401.ui.forms.png     .png    36  \n",
       "3              0401.ui.strings.png     .png    77  \n",
       "4                0404.ui.forms.png     .png    37  \n",
       "...                            ...      ...   ...  \n",
       "1266                _nvppo.dll.png     .png   887  \n",
       "1267           _nvspcaps64.dll.png     .png  1212  \n",
       "1268  _nvspserviceplugin64.dll.png     .png   920  \n",
       "1269              _nvtopps.dll.png     .png  2096  \n",
       "1270      _OverClockingNvc.dll.png     .png  1117  \n",
       "\n",
       "[1271 rows x 5 columns]"
      ]
     },
     "execution_count": 10,
     "metadata": {},
     "output_type": "execute_result"
    }
   ],
   "source": [
    "df['dim'] = df['size'].apply(lambda x: getHWdim(x))\n",
    "df"
   ]
  },
  {
   "cell_type": "markdown",
   "id": "3e2d4ac8-8eb5-4921-ad72-8f34f02190d8",
   "metadata": {},
   "source": [
    "Next I will extract the original file type as per my operating system desiganted extension. I do this with a simple lambda that parses out the file extension in the path name. The mt_util preserves the original file name in the output file name by adding the .png extension to the original file. All that is needed to return the original file name is to split the path on '.' and take the second to last string, shown in the lambda below. Then a new feature can be added to the dataframe."
   ]
  },
  {
   "cell_type": "code",
   "execution_count": 13,
   "id": "2282c5b2-d4f2-4c40-9661-5d4bb09374a4",
   "metadata": {
    "tags": []
   },
   "outputs": [],
   "source": [
    "def getFileType(x):\n",
    "    ss = x.split('.')\n",
    "    return ss[len(ss) - 2]"
   ]
  },
  {
   "cell_type": "code",
   "execution_count": 15,
   "id": "b22558c7-0813-4ed0-b9fd-4cd19b57b067",
   "metadata": {
    "tags": []
   },
   "outputs": [
    {
     "data": {
      "text/html": [
       "<div>\n",
       "<style scoped>\n",
       "    .dataframe tbody tr th:only-of-type {\n",
       "        vertical-align: middle;\n",
       "    }\n",
       "\n",
       "    .dataframe tbody tr th {\n",
       "        vertical-align: top;\n",
       "    }\n",
       "\n",
       "    .dataframe thead th {\n",
       "        text-align: right;\n",
       "    }\n",
       "</style>\n",
       "<table border=\"1\" class=\"dataframe\">\n",
       "  <thead>\n",
       "    <tr style=\"text-align: right;\">\n",
       "      <th></th>\n",
       "      <th>path</th>\n",
       "      <th>size</th>\n",
       "      <th>file_name</th>\n",
       "      <th>file_ext</th>\n",
       "      <th>dim</th>\n",
       "      <th>file_type</th>\n",
       "    </tr>\n",
       "  </thead>\n",
       "  <tbody>\n",
       "    <tr>\n",
       "      <th>0</th>\n",
       "      <td>imgs\\0000.ui.forms.png</td>\n",
       "      <td>8695</td>\n",
       "      <td>0000.ui.forms.png</td>\n",
       "      <td>.png</td>\n",
       "      <td>93</td>\n",
       "      <td>forms</td>\n",
       "    </tr>\n",
       "    <tr>\n",
       "      <th>1</th>\n",
       "      <td>imgs\\0000.ui.strings.png</td>\n",
       "      <td>941</td>\n",
       "      <td>0000.ui.strings.png</td>\n",
       "      <td>.png</td>\n",
       "      <td>30</td>\n",
       "      <td>strings</td>\n",
       "    </tr>\n",
       "    <tr>\n",
       "      <th>2</th>\n",
       "      <td>imgs\\0401.ui.forms.png</td>\n",
       "      <td>1319</td>\n",
       "      <td>0401.ui.forms.png</td>\n",
       "      <td>.png</td>\n",
       "      <td>36</td>\n",
       "      <td>forms</td>\n",
       "    </tr>\n",
       "    <tr>\n",
       "      <th>3</th>\n",
       "      <td>imgs\\0401.ui.strings.png</td>\n",
       "      <td>6047</td>\n",
       "      <td>0401.ui.strings.png</td>\n",
       "      <td>.png</td>\n",
       "      <td>77</td>\n",
       "      <td>strings</td>\n",
       "    </tr>\n",
       "    <tr>\n",
       "      <th>4</th>\n",
       "      <td>imgs\\0404.ui.forms.png</td>\n",
       "      <td>1391</td>\n",
       "      <td>0404.ui.forms.png</td>\n",
       "      <td>.png</td>\n",
       "      <td>37</td>\n",
       "      <td>forms</td>\n",
       "    </tr>\n",
       "    <tr>\n",
       "      <th>...</th>\n",
       "      <td>...</td>\n",
       "      <td>...</td>\n",
       "      <td>...</td>\n",
       "      <td>...</td>\n",
       "      <td>...</td>\n",
       "      <td>...</td>\n",
       "    </tr>\n",
       "    <tr>\n",
       "      <th>1266</th>\n",
       "      <td>imgs\\_nvppo.dll.png</td>\n",
       "      <td>788152</td>\n",
       "      <td>_nvppo.dll.png</td>\n",
       "      <td>.png</td>\n",
       "      <td>887</td>\n",
       "      <td>dll</td>\n",
       "    </tr>\n",
       "    <tr>\n",
       "      <th>1267</th>\n",
       "      <td>imgs\\_nvspcaps64.dll.png</td>\n",
       "      <td>1470652</td>\n",
       "      <td>_nvspcaps64.dll.png</td>\n",
       "      <td>.png</td>\n",
       "      <td>1212</td>\n",
       "      <td>dll</td>\n",
       "    </tr>\n",
       "    <tr>\n",
       "      <th>1268</th>\n",
       "      <td>imgs\\_nvspserviceplugin64.dll.png</td>\n",
       "      <td>846753</td>\n",
       "      <td>_nvspserviceplugin64.dll.png</td>\n",
       "      <td>.png</td>\n",
       "      <td>920</td>\n",
       "      <td>dll</td>\n",
       "    </tr>\n",
       "    <tr>\n",
       "      <th>1269</th>\n",
       "      <td>imgs\\_nvtopps.dll.png</td>\n",
       "      <td>4396165</td>\n",
       "      <td>_nvtopps.dll.png</td>\n",
       "      <td>.png</td>\n",
       "      <td>2096</td>\n",
       "      <td>dll</td>\n",
       "    </tr>\n",
       "    <tr>\n",
       "      <th>1270</th>\n",
       "      <td>imgs\\_OverClockingNvc.dll.png</td>\n",
       "      <td>1248031</td>\n",
       "      <td>_OverClockingNvc.dll.png</td>\n",
       "      <td>.png</td>\n",
       "      <td>1117</td>\n",
       "      <td>dll</td>\n",
       "    </tr>\n",
       "  </tbody>\n",
       "</table>\n",
       "<p>1271 rows × 6 columns</p>\n",
       "</div>"
      ],
      "text/plain": [
       "                                   path     size  \\\n",
       "0                imgs\\0000.ui.forms.png     8695   \n",
       "1              imgs\\0000.ui.strings.png      941   \n",
       "2                imgs\\0401.ui.forms.png     1319   \n",
       "3              imgs\\0401.ui.strings.png     6047   \n",
       "4                imgs\\0404.ui.forms.png     1391   \n",
       "...                                 ...      ...   \n",
       "1266                imgs\\_nvppo.dll.png   788152   \n",
       "1267           imgs\\_nvspcaps64.dll.png  1470652   \n",
       "1268  imgs\\_nvspserviceplugin64.dll.png   846753   \n",
       "1269              imgs\\_nvtopps.dll.png  4396165   \n",
       "1270      imgs\\_OverClockingNvc.dll.png  1248031   \n",
       "\n",
       "                         file_name file_ext   dim file_type  \n",
       "0                0000.ui.forms.png     .png    93     forms  \n",
       "1              0000.ui.strings.png     .png    30   strings  \n",
       "2                0401.ui.forms.png     .png    36     forms  \n",
       "3              0401.ui.strings.png     .png    77   strings  \n",
       "4                0404.ui.forms.png     .png    37     forms  \n",
       "...                            ...      ...   ...       ...  \n",
       "1266                _nvppo.dll.png     .png   887       dll  \n",
       "1267           _nvspcaps64.dll.png     .png  1212       dll  \n",
       "1268  _nvspserviceplugin64.dll.png     .png   920       dll  \n",
       "1269              _nvtopps.dll.png     .png  2096       dll  \n",
       "1270      _OverClockingNvc.dll.png     .png  1117       dll  \n",
       "\n",
       "[1271 rows x 6 columns]"
      ]
     },
     "execution_count": 15,
     "metadata": {},
     "output_type": "execute_result"
    }
   ],
   "source": [
    "df['file_type'] = df['path'].apply(lambda x: getFileType(x))\n",
    "df"
   ]
  },
  {
   "cell_type": "code",
   "execution_count": 16,
   "id": "f1776d98-b68c-4cff-988a-585d0cdda53b",
   "metadata": {
    "tags": []
   },
   "outputs": [
    {
     "data": {
      "text/plain": [
       "dll     325\n",
       "png     125\n",
       "dl_      75\n",
       "exe      74\n",
       "pak      57\n",
       "       ... \n",
       "blb       1\n",
       "JSON      1\n",
       "mc        1\n",
       "h         1\n",
       "tga       1\n",
       "Name: file_type, Length: 75, dtype: int64"
      ]
     },
     "execution_count": 16,
     "metadata": {},
     "output_type": "execute_result"
    }
   ],
   "source": [
    "df.file_type.value_counts()"
   ]
  },
  {
   "cell_type": "markdown",
   "id": "f21b76f8-7e6c-4143-9a8d-58062fbe5b9e",
   "metadata": {},
   "source": [
    "## EDA initial Results\n",
    "As shown above we about 400 samples for training if we use dll and exe files. This is just under half of what we need to get a suitable data set based on my research [9], if attempting a basic CNN architecture. This may support the one-shot method purposed by Hiaso et al. [1] "
   ]
  },
  {
   "cell_type": "code",
   "execution_count": 18,
   "id": "30026ede-5021-4f03-b932-a306a70d35f2",
   "metadata": {
    "tags": []
   },
   "outputs": [
    {
     "data": {
      "text/html": [
       "<div>\n",
       "<style scoped>\n",
       "    .dataframe tbody tr th:only-of-type {\n",
       "        vertical-align: middle;\n",
       "    }\n",
       "\n",
       "    .dataframe tbody tr th {\n",
       "        vertical-align: top;\n",
       "    }\n",
       "\n",
       "    .dataframe thead th {\n",
       "        text-align: right;\n",
       "    }\n",
       "</style>\n",
       "<table border=\"1\" class=\"dataframe\">\n",
       "  <thead>\n",
       "    <tr style=\"text-align: right;\">\n",
       "      <th></th>\n",
       "      <th>path</th>\n",
       "      <th>size</th>\n",
       "      <th>file_name</th>\n",
       "      <th>file_ext</th>\n",
       "    </tr>\n",
       "  </thead>\n",
       "  <tbody>\n",
       "    <tr>\n",
       "      <th>0</th>\n",
       "      <td>C:\\Windows\\System32\\07409496-a423-4a3e-b620-2c...</td>\n",
       "      <td>25960</td>\n",
       "      <td>07409496-a423-4a3e-b620-2cfb01a9318d_HyperV-Co...</td>\n",
       "      <td>.dll</td>\n",
       "    </tr>\n",
       "    <tr>\n",
       "      <th>1</th>\n",
       "      <td>C:\\Windows\\System32\\0ae3b998-9a38-4b72-a4c4-06...</td>\n",
       "      <td>25968</td>\n",
       "      <td>0ae3b998-9a38-4b72-a4c4-06849441518d_Servicing...</td>\n",
       "      <td>.dll</td>\n",
       "    </tr>\n",
       "    <tr>\n",
       "      <th>2</th>\n",
       "      <td>C:\\Windows\\System32\\4545ffe2-0dc4-4df4-9d02-29...</td>\n",
       "      <td>25952</td>\n",
       "      <td>4545ffe2-0dc4-4df4-9d02-299ef204635e_hvsocket.dll</td>\n",
       "      <td>.dll</td>\n",
       "    </tr>\n",
       "    <tr>\n",
       "      <th>3</th>\n",
       "      <td>C:\\Windows\\System32\\69fe178f-26e7-43a9-aa7d-2b...</td>\n",
       "      <td>25952</td>\n",
       "      <td>69fe178f-26e7-43a9-aa7d-2b616b672dde_eventlogs...</td>\n",
       "      <td>.dll</td>\n",
       "    </tr>\n",
       "    <tr>\n",
       "      <th>4</th>\n",
       "      <td>C:\\Windows\\System32\\6bea57fb-8dfb-4177-9ae8-42...</td>\n",
       "      <td>25968</td>\n",
       "      <td>6bea57fb-8dfb-4177-9ae8-42e8b3529933_RuntimeDe...</td>\n",
       "      <td>.dll</td>\n",
       "    </tr>\n",
       "  </tbody>\n",
       "</table>\n",
       "</div>"
      ],
      "text/plain": [
       "                                                path   size  \\\n",
       "0  C:\\Windows\\System32\\07409496-a423-4a3e-b620-2c...  25960   \n",
       "1  C:\\Windows\\System32\\0ae3b998-9a38-4b72-a4c4-06...  25968   \n",
       "2  C:\\Windows\\System32\\4545ffe2-0dc4-4df4-9d02-29...  25952   \n",
       "3  C:\\Windows\\System32\\69fe178f-26e7-43a9-aa7d-2b...  25952   \n",
       "4  C:\\Windows\\System32\\6bea57fb-8dfb-4177-9ae8-42...  25968   \n",
       "\n",
       "                                           file_name file_ext  \n",
       "0  07409496-a423-4a3e-b620-2cfb01a9318d_HyperV-Co...     .dll  \n",
       "1  0ae3b998-9a38-4b72-a4c4-06849441518d_Servicing...     .dll  \n",
       "2  4545ffe2-0dc4-4df4-9d02-299ef204635e_hvsocket.dll     .dll  \n",
       "3  69fe178f-26e7-43a9-aa7d-2b616b672dde_eventlogs...     .dll  \n",
       "4  6bea57fb-8dfb-4177-9ae8-42e8b3529933_RuntimeDe...     .dll  "
      ]
     },
     "execution_count": 18,
     "metadata": {},
     "output_type": "execute_result"
    }
   ],
   "source": [
    "sys32 = 'C:\\Windows\\System32'\n",
    "# Create the pandas DataFrame from object dictionary\n",
    "sys32_df = pd.DataFrame([o.__dict__ for o in mt.get_files(sys32)])\n",
    "\n",
    "# print dataframe.\n",
    "sys32_df.head(5)"
   ]
  },
  {
   "cell_type": "code",
   "execution_count": 19,
   "id": "5ef22565-a667-4fb6-9f70-429667a4171f",
   "metadata": {
    "tags": []
   },
   "outputs": [
    {
     "data": {
      "text/html": [
       "<div>\n",
       "<style scoped>\n",
       "    .dataframe tbody tr th:only-of-type {\n",
       "        vertical-align: middle;\n",
       "    }\n",
       "\n",
       "    .dataframe tbody tr th {\n",
       "        vertical-align: top;\n",
       "    }\n",
       "\n",
       "    .dataframe thead th {\n",
       "        text-align: right;\n",
       "    }\n",
       "</style>\n",
       "<table border=\"1\" class=\"dataframe\">\n",
       "  <thead>\n",
       "    <tr style=\"text-align: right;\">\n",
       "      <th></th>\n",
       "      <th>path</th>\n",
       "      <th>size</th>\n",
       "      <th>file_name</th>\n",
       "      <th>file_ext</th>\n",
       "    </tr>\n",
       "  </thead>\n",
       "  <tbody>\n",
       "    <tr>\n",
       "      <th>0</th>\n",
       "      <td>C:\\Windows\\System32\\07409496-a423-4a3e-b620-2c...</td>\n",
       "      <td>25960</td>\n",
       "      <td>07409496-a423-4a3e-b620-2cfb01a9318d_HyperV-Co...</td>\n",
       "      <td>.dll</td>\n",
       "    </tr>\n",
       "    <tr>\n",
       "      <th>1</th>\n",
       "      <td>C:\\Windows\\System32\\0ae3b998-9a38-4b72-a4c4-06...</td>\n",
       "      <td>25968</td>\n",
       "      <td>0ae3b998-9a38-4b72-a4c4-06849441518d_Servicing...</td>\n",
       "      <td>.dll</td>\n",
       "    </tr>\n",
       "    <tr>\n",
       "      <th>2</th>\n",
       "      <td>C:\\Windows\\System32\\4545ffe2-0dc4-4df4-9d02-29...</td>\n",
       "      <td>25952</td>\n",
       "      <td>4545ffe2-0dc4-4df4-9d02-299ef204635e_hvsocket.dll</td>\n",
       "      <td>.dll</td>\n",
       "    </tr>\n",
       "    <tr>\n",
       "      <th>3</th>\n",
       "      <td>C:\\Windows\\System32\\69fe178f-26e7-43a9-aa7d-2b...</td>\n",
       "      <td>25952</td>\n",
       "      <td>69fe178f-26e7-43a9-aa7d-2b616b672dde_eventlogs...</td>\n",
       "      <td>.dll</td>\n",
       "    </tr>\n",
       "    <tr>\n",
       "      <th>4</th>\n",
       "      <td>C:\\Windows\\System32\\6bea57fb-8dfb-4177-9ae8-42...</td>\n",
       "      <td>25968</td>\n",
       "      <td>6bea57fb-8dfb-4177-9ae8-42e8b3529933_RuntimeDe...</td>\n",
       "      <td>.dll</td>\n",
       "    </tr>\n",
       "    <tr>\n",
       "      <th>...</th>\n",
       "      <td>...</td>\n",
       "      <td>...</td>\n",
       "      <td>...</td>\n",
       "      <td>...</td>\n",
       "    </tr>\n",
       "    <tr>\n",
       "      <th>17310</th>\n",
       "      <td>C:\\Windows\\System32\\zh-TW\\msprivs.dll.mui</td>\n",
       "      <td>3584</td>\n",
       "      <td>msprivs.dll.mui</td>\n",
       "      <td>.mui</td>\n",
       "    </tr>\n",
       "    <tr>\n",
       "      <th>17311</th>\n",
       "      <td>C:\\Windows\\System32\\zh-TW\\SyncRes.dll.mui</td>\n",
       "      <td>13824</td>\n",
       "      <td>SyncRes.dll.mui</td>\n",
       "      <td>.mui</td>\n",
       "    </tr>\n",
       "    <tr>\n",
       "      <th>17312</th>\n",
       "      <td>C:\\Windows\\System32\\zh-TW\\Windows.Media.Speech...</td>\n",
       "      <td>6656</td>\n",
       "      <td>Windows.Media.Speech.UXRes.dll.mui</td>\n",
       "      <td>.mui</td>\n",
       "    </tr>\n",
       "    <tr>\n",
       "      <th>17313</th>\n",
       "      <td>C:\\Windows\\System32\\zh-TW\\windows.ui.xaml.dll.mui</td>\n",
       "      <td>11776</td>\n",
       "      <td>windows.ui.xaml.dll.mui</td>\n",
       "      <td>.mui</td>\n",
       "    </tr>\n",
       "    <tr>\n",
       "      <th>17314</th>\n",
       "      <td>C:\\Windows\\System32\\zh-TW\\WWAHost.exe.mui</td>\n",
       "      <td>11776</td>\n",
       "      <td>WWAHost.exe.mui</td>\n",
       "      <td>.mui</td>\n",
       "    </tr>\n",
       "  </tbody>\n",
       "</table>\n",
       "<p>17315 rows × 4 columns</p>\n",
       "</div>"
      ],
      "text/plain": [
       "                                                    path   size  \\\n",
       "0      C:\\Windows\\System32\\07409496-a423-4a3e-b620-2c...  25960   \n",
       "1      C:\\Windows\\System32\\0ae3b998-9a38-4b72-a4c4-06...  25968   \n",
       "2      C:\\Windows\\System32\\4545ffe2-0dc4-4df4-9d02-29...  25952   \n",
       "3      C:\\Windows\\System32\\69fe178f-26e7-43a9-aa7d-2b...  25952   \n",
       "4      C:\\Windows\\System32\\6bea57fb-8dfb-4177-9ae8-42...  25968   \n",
       "...                                                  ...    ...   \n",
       "17310          C:\\Windows\\System32\\zh-TW\\msprivs.dll.mui   3584   \n",
       "17311          C:\\Windows\\System32\\zh-TW\\SyncRes.dll.mui  13824   \n",
       "17312  C:\\Windows\\System32\\zh-TW\\Windows.Media.Speech...   6656   \n",
       "17313  C:\\Windows\\System32\\zh-TW\\windows.ui.xaml.dll.mui  11776   \n",
       "17314          C:\\Windows\\System32\\zh-TW\\WWAHost.exe.mui  11776   \n",
       "\n",
       "                                               file_name file_ext  \n",
       "0      07409496-a423-4a3e-b620-2cfb01a9318d_HyperV-Co...     .dll  \n",
       "1      0ae3b998-9a38-4b72-a4c4-06849441518d_Servicing...     .dll  \n",
       "2      4545ffe2-0dc4-4df4-9d02-299ef204635e_hvsocket.dll     .dll  \n",
       "3      69fe178f-26e7-43a9-aa7d-2b616b672dde_eventlogs...     .dll  \n",
       "4      6bea57fb-8dfb-4177-9ae8-42e8b3529933_RuntimeDe...     .dll  \n",
       "...                                                  ...      ...  \n",
       "17310                                    msprivs.dll.mui     .mui  \n",
       "17311                                    SyncRes.dll.mui     .mui  \n",
       "17312                 Windows.Media.Speech.UXRes.dll.mui     .mui  \n",
       "17313                            windows.ui.xaml.dll.mui     .mui  \n",
       "17314                                    WWAHost.exe.mui     .mui  \n",
       "\n",
       "[17315 rows x 4 columns]"
      ]
     },
     "execution_count": 19,
     "metadata": {},
     "output_type": "execute_result"
    }
   ],
   "source": [
    "sys32_df"
   ]
  },
  {
   "cell_type": "code",
   "execution_count": 20,
   "id": "a16d0747-2ed7-4f0a-86aa-1fba059e1003",
   "metadata": {
    "tags": []
   },
   "outputs": [
    {
     "data": {
      "text/plain": [
       ".dll    4670\n",
       ".mui    2854\n",
       ".cat    2416\n",
       ".sys     911\n",
       ".inf     836\n",
       "        ... \n",
       ".lex       1\n",
       ".mbn       1\n",
       ".e06       1\n",
       ".e04       1\n",
       ".4         1\n",
       "Name: file_ext, Length: 181, dtype: int64"
      ]
     },
     "execution_count": 20,
     "metadata": {},
     "output_type": "execute_result"
    }
   ],
   "source": [
    "sys32_df.file_ext.value_counts()"
   ]
  },
  {
   "cell_type": "code",
   "execution_count": 21,
   "id": "9070913c-cbbe-44fe-99bc-8531daff3339",
   "metadata": {
    "tags": []
   },
   "outputs": [
    {
     "ename": "PermissionError",
     "evalue": "[Errno 13] Permission denied: 'C:\\\\Windows\\\\System32\\\\catroot2\\\\edb.log'",
     "output_type": "error",
     "traceback": [
      "\u001b[1;31m---------------------------------------------------------------------------\u001b[0m",
      "\u001b[1;31mPermissionError\u001b[0m                           Traceback (most recent call last)",
      "Cell \u001b[1;32mIn[21], line 1\u001b[0m\n\u001b[1;32m----> 1\u001b[0m mt\u001b[38;5;241m.\u001b[39mimgs_fr_dir(sys32, \u001b[38;5;124m'\u001b[39m\u001b[38;5;124msys32imgs\u001b[39m\u001b[38;5;124m'\u001b[39m)\n",
      "File \u001b[1;32m~\\Documents\\MSDS\\DE_IMG_Wk\\mt_util.py:90\u001b[0m, in \u001b[0;36mimgs_fr_dir\u001b[1;34m(path, out_path)\u001b[0m\n\u001b[0;32m     88\u001b[0m     os\u001b[38;5;241m.\u001b[39mmakedirs(out_path)\n\u001b[0;32m     89\u001b[0m \u001b[38;5;28;01mfor\u001b[39;00m f \u001b[38;5;129;01min\u001b[39;00m get_files(path):                \n\u001b[1;32m---> 90\u001b[0m         img_fr_file(f\u001b[38;5;241m.\u001b[39mpath, out_path_dir)\n",
      "File \u001b[1;32m~\\Documents\\MSDS\\DE_IMG_Wk\\mt_util.py:55\u001b[0m, in \u001b[0;36mimg_fr_file\u001b[1;34m(path, out_path, img_width, img_height)\u001b[0m\n\u001b[0;32m     51\u001b[0m     out_path \u001b[38;5;241m=\u001b[39m os\u001b[38;5;241m.\u001b[39mgetcwd()\n\u001b[0;32m     53\u001b[0m \u001b[38;5;28;01mif\u001b[39;00m(img_height \u001b[38;5;241m==\u001b[39m \u001b[38;5;28;01mNone\u001b[39;00m \u001b[38;5;129;01mor\u001b[39;00m img_width \u001b[38;5;241m==\u001b[39m \u001b[38;5;28;01mNone\u001b[39;00m):\n\u001b[0;32m     54\u001b[0m     \u001b[38;5;66;03m# Read file using numpy \"fromfile()\"\u001b[39;00m\n\u001b[1;32m---> 55\u001b[0m     \u001b[38;5;28;01mwith\u001b[39;00m \u001b[38;5;28mopen\u001b[39m(path, mode\u001b[38;5;241m=\u001b[39m\u001b[38;5;124m'\u001b[39m\u001b[38;5;124mrb\u001b[39m\u001b[38;5;124m'\u001b[39m) \u001b[38;5;28;01mas\u001b[39;00m f:\n\u001b[0;32m     56\u001b[0m         \u001b[38;5;28;01mtry\u001b[39;00m:\n\u001b[0;32m     57\u001b[0m             area \u001b[38;5;241m=\u001b[39m \u001b[38;5;28mint\u001b[39m(math\u001b[38;5;241m.\u001b[39msqrt(os\u001b[38;5;241m.\u001b[39mpath\u001b[38;5;241m.\u001b[39mgetsize(path)))\n",
      "\u001b[1;31mPermissionError\u001b[0m: [Errno 13] Permission denied: 'C:\\\\Windows\\\\System32\\\\catroot2\\\\edb.log'"
     ]
    }
   ],
   "source": [
    "mt.imgs_fr_dir(sys32, 'sys32imgs')"
   ]
  },
  {
   "cell_type": "markdown",
   "id": "5a308038-e930-4051-9481-87084442d6c0",
   "metadata": {},
   "source": [
    "TODO: add error handling to mt_util for permissions."
   ]
  },
  {
   "cell_type": "code",
   "execution_count": 23,
   "id": "b187bc2a-4bd7-4f35-a186-ec8c3bf56988",
   "metadata": {
    "tags": []
   },
   "outputs": [
    {
     "data": {
      "text/html": [
       "<div>\n",
       "<style scoped>\n",
       "    .dataframe tbody tr th:only-of-type {\n",
       "        vertical-align: middle;\n",
       "    }\n",
       "\n",
       "    .dataframe tbody tr th {\n",
       "        vertical-align: top;\n",
       "    }\n",
       "\n",
       "    .dataframe thead th {\n",
       "        text-align: right;\n",
       "    }\n",
       "</style>\n",
       "<table border=\"1\" class=\"dataframe\">\n",
       "  <thead>\n",
       "    <tr style=\"text-align: right;\">\n",
       "      <th></th>\n",
       "      <th>path</th>\n",
       "      <th>size</th>\n",
       "      <th>file_name</th>\n",
       "      <th>file_ext</th>\n",
       "    </tr>\n",
       "  </thead>\n",
       "  <tbody>\n",
       "    <tr>\n",
       "      <th>0</th>\n",
       "      <td>sys32imgs\\07409496-a423-4a3e-b620-2cfb01a9318d...</td>\n",
       "      <td>8363</td>\n",
       "      <td>07409496-a423-4a3e-b620-2cfb01a9318d_HyperV-Co...</td>\n",
       "      <td>.png</td>\n",
       "    </tr>\n",
       "    <tr>\n",
       "      <th>1</th>\n",
       "      <td>sys32imgs\\0ae3b998-9a38-4b72-a4c4-06849441518d...</td>\n",
       "      <td>8383</td>\n",
       "      <td>0ae3b998-9a38-4b72-a4c4-06849441518d_Servicing...</td>\n",
       "      <td>.png</td>\n",
       "    </tr>\n",
       "    <tr>\n",
       "      <th>2</th>\n",
       "      <td>sys32imgs\\4545ffe2-0dc4-4df4-9d02-299ef204635e...</td>\n",
       "      <td>8433</td>\n",
       "      <td>4545ffe2-0dc4-4df4-9d02-299ef204635e_hvsocket....</td>\n",
       "      <td>.png</td>\n",
       "    </tr>\n",
       "    <tr>\n",
       "      <th>3</th>\n",
       "      <td>sys32imgs\\69fe178f-26e7-43a9-aa7d-2b616b672dde...</td>\n",
       "      <td>8379</td>\n",
       "      <td>69fe178f-26e7-43a9-aa7d-2b616b672dde_eventlogs...</td>\n",
       "      <td>.png</td>\n",
       "    </tr>\n",
       "    <tr>\n",
       "      <th>4</th>\n",
       "      <td>sys32imgs\\6bea57fb-8dfb-4177-9ae8-42e8b3529933...</td>\n",
       "      <td>8386</td>\n",
       "      <td>6bea57fb-8dfb-4177-9ae8-42e8b3529933_RuntimeDe...</td>\n",
       "      <td>.png</td>\n",
       "    </tr>\n",
       "    <tr>\n",
       "      <th>...</th>\n",
       "      <td>...</td>\n",
       "      <td>...</td>\n",
       "      <td>...</td>\n",
       "      <td>...</td>\n",
       "    </tr>\n",
       "    <tr>\n",
       "      <th>6862</th>\n",
       "      <td>sys32imgs\\{97C9A618-D40C-40EE-8563-8799D0DB987...</td>\n",
       "      <td>8105</td>\n",
       "      <td>{97C9A618-D40C-40EE-8563-8799D0DB9872}~mfencbd...</td>\n",
       "      <td>.png</td>\n",
       "    </tr>\n",
       "    <tr>\n",
       "      <th>6863</th>\n",
       "      <td>sys32imgs\\{A6CE337F-CBA5-412D-A06A-D872F2A8F08...</td>\n",
       "      <td>8105</td>\n",
       "      <td>{A6CE337F-CBA5-412D-A06A-D872F2A8F089}~mfencbd...</td>\n",
       "      <td>.png</td>\n",
       "    </tr>\n",
       "    <tr>\n",
       "      <th>6864</th>\n",
       "      <td>sys32imgs\\{AC93B605-EEAA-4818-9136-9EDA5489749...</td>\n",
       "      <td>6835</td>\n",
       "      <td>{AC93B605-EEAA-4818-9136-9EDA54897497}~mfencbd...</td>\n",
       "      <td>.png</td>\n",
       "    </tr>\n",
       "    <tr>\n",
       "      <th>6865</th>\n",
       "      <td>sys32imgs\\{C03C9921-D1C8-49D2-83C4-162FBC62CCA...</td>\n",
       "      <td>6814</td>\n",
       "      <td>{C03C9921-D1C8-49D2-83C4-162FBC62CCA8}~mfencrk...</td>\n",
       "      <td>.png</td>\n",
       "    </tr>\n",
       "    <tr>\n",
       "      <th>6866</th>\n",
       "      <td>sys32imgs\\{C2B58781-FD1F-4930-8577-F0EA9F4C616...</td>\n",
       "      <td>8279</td>\n",
       "      <td>{C2B58781-FD1F-4930-8577-F0EA9F4C6169}~mfencrk...</td>\n",
       "      <td>.png</td>\n",
       "    </tr>\n",
       "  </tbody>\n",
       "</table>\n",
       "<p>6867 rows × 4 columns</p>\n",
       "</div>"
      ],
      "text/plain": [
       "                                                   path  size  \\\n",
       "0     sys32imgs\\07409496-a423-4a3e-b620-2cfb01a9318d...  8363   \n",
       "1     sys32imgs\\0ae3b998-9a38-4b72-a4c4-06849441518d...  8383   \n",
       "2     sys32imgs\\4545ffe2-0dc4-4df4-9d02-299ef204635e...  8433   \n",
       "3     sys32imgs\\69fe178f-26e7-43a9-aa7d-2b616b672dde...  8379   \n",
       "4     sys32imgs\\6bea57fb-8dfb-4177-9ae8-42e8b3529933...  8386   \n",
       "...                                                 ...   ...   \n",
       "6862  sys32imgs\\{97C9A618-D40C-40EE-8563-8799D0DB987...  8105   \n",
       "6863  sys32imgs\\{A6CE337F-CBA5-412D-A06A-D872F2A8F08...  8105   \n",
       "6864  sys32imgs\\{AC93B605-EEAA-4818-9136-9EDA5489749...  6835   \n",
       "6865  sys32imgs\\{C03C9921-D1C8-49D2-83C4-162FBC62CCA...  6814   \n",
       "6866  sys32imgs\\{C2B58781-FD1F-4930-8577-F0EA9F4C616...  8279   \n",
       "\n",
       "                                              file_name file_ext  \n",
       "0     07409496-a423-4a3e-b620-2cfb01a9318d_HyperV-Co...     .png  \n",
       "1     0ae3b998-9a38-4b72-a4c4-06849441518d_Servicing...     .png  \n",
       "2     4545ffe2-0dc4-4df4-9d02-299ef204635e_hvsocket....     .png  \n",
       "3     69fe178f-26e7-43a9-aa7d-2b616b672dde_eventlogs...     .png  \n",
       "4     6bea57fb-8dfb-4177-9ae8-42e8b3529933_RuntimeDe...     .png  \n",
       "...                                                 ...      ...  \n",
       "6862  {97C9A618-D40C-40EE-8563-8799D0DB9872}~mfencbd...     .png  \n",
       "6863  {A6CE337F-CBA5-412D-A06A-D872F2A8F089}~mfencbd...     .png  \n",
       "6864  {AC93B605-EEAA-4818-9136-9EDA54897497}~mfencbd...     .png  \n",
       "6865  {C03C9921-D1C8-49D2-83C4-162FBC62CCA8}~mfencrk...     .png  \n",
       "6866  {C2B58781-FD1F-4930-8577-F0EA9F4C6169}~mfencrk...     .png  \n",
       "\n",
       "[6867 rows x 4 columns]"
      ]
     },
     "execution_count": 23,
     "metadata": {},
     "output_type": "execute_result"
    }
   ],
   "source": [
    "# Create the pandas DataFrame from object dictionary\n",
    "sys32imgs_df = pd.DataFrame([o.__dict__ for o in mt.get_files('sys32imgs')])\n",
    "\n",
    "# print dataframe.\n",
    "sys32imgs_df"
   ]
  },
  {
   "cell_type": "markdown",
   "id": "6644c1c9-2274-4860-a331-5fb0149ae33c",
   "metadata": {},
   "source": [
    "Although I didn't get all 17K, due to exception, I was able to get about 7K images so I will proceed with this data set. I'll use the same lamdas as before to extract features for this data set."
   ]
  },
  {
   "cell_type": "code",
   "execution_count": 27,
   "id": "e6772501-973b-4ee0-abab-991c211a1b57",
   "metadata": {
    "tags": []
   },
   "outputs": [
    {
     "data": {
      "text/html": [
       "<div>\n",
       "<style scoped>\n",
       "    .dataframe tbody tr th:only-of-type {\n",
       "        vertical-align: middle;\n",
       "    }\n",
       "\n",
       "    .dataframe tbody tr th {\n",
       "        vertical-align: top;\n",
       "    }\n",
       "\n",
       "    .dataframe thead th {\n",
       "        text-align: right;\n",
       "    }\n",
       "</style>\n",
       "<table border=\"1\" class=\"dataframe\">\n",
       "  <thead>\n",
       "    <tr style=\"text-align: right;\">\n",
       "      <th></th>\n",
       "      <th>path</th>\n",
       "      <th>size</th>\n",
       "      <th>file_name</th>\n",
       "      <th>file_ext</th>\n",
       "      <th>dim</th>\n",
       "    </tr>\n",
       "  </thead>\n",
       "  <tbody>\n",
       "    <tr>\n",
       "      <th>0</th>\n",
       "      <td>sys32imgs\\07409496-a423-4a3e-b620-2cfb01a9318d...</td>\n",
       "      <td>8363</td>\n",
       "      <td>07409496-a423-4a3e-b620-2cfb01a9318d_HyperV-Co...</td>\n",
       "      <td>.png</td>\n",
       "      <td>91</td>\n",
       "    </tr>\n",
       "    <tr>\n",
       "      <th>1</th>\n",
       "      <td>sys32imgs\\0ae3b998-9a38-4b72-a4c4-06849441518d...</td>\n",
       "      <td>8383</td>\n",
       "      <td>0ae3b998-9a38-4b72-a4c4-06849441518d_Servicing...</td>\n",
       "      <td>.png</td>\n",
       "      <td>91</td>\n",
       "    </tr>\n",
       "    <tr>\n",
       "      <th>2</th>\n",
       "      <td>sys32imgs\\4545ffe2-0dc4-4df4-9d02-299ef204635e...</td>\n",
       "      <td>8433</td>\n",
       "      <td>4545ffe2-0dc4-4df4-9d02-299ef204635e_hvsocket....</td>\n",
       "      <td>.png</td>\n",
       "      <td>91</td>\n",
       "    </tr>\n",
       "    <tr>\n",
       "      <th>3</th>\n",
       "      <td>sys32imgs\\69fe178f-26e7-43a9-aa7d-2b616b672dde...</td>\n",
       "      <td>8379</td>\n",
       "      <td>69fe178f-26e7-43a9-aa7d-2b616b672dde_eventlogs...</td>\n",
       "      <td>.png</td>\n",
       "      <td>91</td>\n",
       "    </tr>\n",
       "    <tr>\n",
       "      <th>4</th>\n",
       "      <td>sys32imgs\\6bea57fb-8dfb-4177-9ae8-42e8b3529933...</td>\n",
       "      <td>8386</td>\n",
       "      <td>6bea57fb-8dfb-4177-9ae8-42e8b3529933_RuntimeDe...</td>\n",
       "      <td>.png</td>\n",
       "      <td>91</td>\n",
       "    </tr>\n",
       "    <tr>\n",
       "      <th>...</th>\n",
       "      <td>...</td>\n",
       "      <td>...</td>\n",
       "      <td>...</td>\n",
       "      <td>...</td>\n",
       "      <td>...</td>\n",
       "    </tr>\n",
       "    <tr>\n",
       "      <th>6862</th>\n",
       "      <td>sys32imgs\\{97C9A618-D40C-40EE-8563-8799D0DB987...</td>\n",
       "      <td>8105</td>\n",
       "      <td>{97C9A618-D40C-40EE-8563-8799D0DB9872}~mfencbd...</td>\n",
       "      <td>.png</td>\n",
       "      <td>90</td>\n",
       "    </tr>\n",
       "    <tr>\n",
       "      <th>6863</th>\n",
       "      <td>sys32imgs\\{A6CE337F-CBA5-412D-A06A-D872F2A8F08...</td>\n",
       "      <td>8105</td>\n",
       "      <td>{A6CE337F-CBA5-412D-A06A-D872F2A8F089}~mfencbd...</td>\n",
       "      <td>.png</td>\n",
       "      <td>90</td>\n",
       "    </tr>\n",
       "    <tr>\n",
       "      <th>6864</th>\n",
       "      <td>sys32imgs\\{AC93B605-EEAA-4818-9136-9EDA5489749...</td>\n",
       "      <td>6835</td>\n",
       "      <td>{AC93B605-EEAA-4818-9136-9EDA54897497}~mfencbd...</td>\n",
       "      <td>.png</td>\n",
       "      <td>82</td>\n",
       "    </tr>\n",
       "    <tr>\n",
       "      <th>6865</th>\n",
       "      <td>sys32imgs\\{C03C9921-D1C8-49D2-83C4-162FBC62CCA...</td>\n",
       "      <td>6814</td>\n",
       "      <td>{C03C9921-D1C8-49D2-83C4-162FBC62CCA8}~mfencrk...</td>\n",
       "      <td>.png</td>\n",
       "      <td>82</td>\n",
       "    </tr>\n",
       "    <tr>\n",
       "      <th>6866</th>\n",
       "      <td>sys32imgs\\{C2B58781-FD1F-4930-8577-F0EA9F4C616...</td>\n",
       "      <td>8279</td>\n",
       "      <td>{C2B58781-FD1F-4930-8577-F0EA9F4C6169}~mfencrk...</td>\n",
       "      <td>.png</td>\n",
       "      <td>90</td>\n",
       "    </tr>\n",
       "  </tbody>\n",
       "</table>\n",
       "<p>6867 rows × 5 columns</p>\n",
       "</div>"
      ],
      "text/plain": [
       "                                                   path  size  \\\n",
       "0     sys32imgs\\07409496-a423-4a3e-b620-2cfb01a9318d...  8363   \n",
       "1     sys32imgs\\0ae3b998-9a38-4b72-a4c4-06849441518d...  8383   \n",
       "2     sys32imgs\\4545ffe2-0dc4-4df4-9d02-299ef204635e...  8433   \n",
       "3     sys32imgs\\69fe178f-26e7-43a9-aa7d-2b616b672dde...  8379   \n",
       "4     sys32imgs\\6bea57fb-8dfb-4177-9ae8-42e8b3529933...  8386   \n",
       "...                                                 ...   ...   \n",
       "6862  sys32imgs\\{97C9A618-D40C-40EE-8563-8799D0DB987...  8105   \n",
       "6863  sys32imgs\\{A6CE337F-CBA5-412D-A06A-D872F2A8F08...  8105   \n",
       "6864  sys32imgs\\{AC93B605-EEAA-4818-9136-9EDA5489749...  6835   \n",
       "6865  sys32imgs\\{C03C9921-D1C8-49D2-83C4-162FBC62CCA...  6814   \n",
       "6866  sys32imgs\\{C2B58781-FD1F-4930-8577-F0EA9F4C616...  8279   \n",
       "\n",
       "                                              file_name file_ext  dim  \n",
       "0     07409496-a423-4a3e-b620-2cfb01a9318d_HyperV-Co...     .png   91  \n",
       "1     0ae3b998-9a38-4b72-a4c4-06849441518d_Servicing...     .png   91  \n",
       "2     4545ffe2-0dc4-4df4-9d02-299ef204635e_hvsocket....     .png   91  \n",
       "3     69fe178f-26e7-43a9-aa7d-2b616b672dde_eventlogs...     .png   91  \n",
       "4     6bea57fb-8dfb-4177-9ae8-42e8b3529933_RuntimeDe...     .png   91  \n",
       "...                                                 ...      ...  ...  \n",
       "6862  {97C9A618-D40C-40EE-8563-8799D0DB9872}~mfencbd...     .png   90  \n",
       "6863  {A6CE337F-CBA5-412D-A06A-D872F2A8F089}~mfencbd...     .png   90  \n",
       "6864  {AC93B605-EEAA-4818-9136-9EDA54897497}~mfencbd...     .png   82  \n",
       "6865  {C03C9921-D1C8-49D2-83C4-162FBC62CCA8}~mfencrk...     .png   82  \n",
       "6866  {C2B58781-FD1F-4930-8577-F0EA9F4C6169}~mfencrk...     .png   90  \n",
       "\n",
       "[6867 rows x 5 columns]"
      ]
     },
     "execution_count": 27,
     "metadata": {},
     "output_type": "execute_result"
    }
   ],
   "source": [
    "sys32imgs_df['dim'] = sys32imgs_df['size'].apply(lambda x: getHWdim(x))\n",
    "sys32imgs_df"
   ]
  },
  {
   "cell_type": "code",
   "execution_count": 28,
   "id": "5f2afba2-eaae-42d3-9625-287585bc3830",
   "metadata": {
    "tags": []
   },
   "outputs": [
    {
     "data": {
      "text/html": [
       "<div>\n",
       "<style scoped>\n",
       "    .dataframe tbody tr th:only-of-type {\n",
       "        vertical-align: middle;\n",
       "    }\n",
       "\n",
       "    .dataframe tbody tr th {\n",
       "        vertical-align: top;\n",
       "    }\n",
       "\n",
       "    .dataframe thead th {\n",
       "        text-align: right;\n",
       "    }\n",
       "</style>\n",
       "<table border=\"1\" class=\"dataframe\">\n",
       "  <thead>\n",
       "    <tr style=\"text-align: right;\">\n",
       "      <th></th>\n",
       "      <th>path</th>\n",
       "      <th>size</th>\n",
       "      <th>file_name</th>\n",
       "      <th>file_ext</th>\n",
       "      <th>dim</th>\n",
       "      <th>file_type</th>\n",
       "    </tr>\n",
       "  </thead>\n",
       "  <tbody>\n",
       "    <tr>\n",
       "      <th>0</th>\n",
       "      <td>sys32imgs\\07409496-a423-4a3e-b620-2cfb01a9318d...</td>\n",
       "      <td>8363</td>\n",
       "      <td>07409496-a423-4a3e-b620-2cfb01a9318d_HyperV-Co...</td>\n",
       "      <td>.png</td>\n",
       "      <td>91</td>\n",
       "      <td>dll</td>\n",
       "    </tr>\n",
       "    <tr>\n",
       "      <th>1</th>\n",
       "      <td>sys32imgs\\0ae3b998-9a38-4b72-a4c4-06849441518d...</td>\n",
       "      <td>8383</td>\n",
       "      <td>0ae3b998-9a38-4b72-a4c4-06849441518d_Servicing...</td>\n",
       "      <td>.png</td>\n",
       "      <td>91</td>\n",
       "      <td>dll</td>\n",
       "    </tr>\n",
       "    <tr>\n",
       "      <th>2</th>\n",
       "      <td>sys32imgs\\4545ffe2-0dc4-4df4-9d02-299ef204635e...</td>\n",
       "      <td>8433</td>\n",
       "      <td>4545ffe2-0dc4-4df4-9d02-299ef204635e_hvsocket....</td>\n",
       "      <td>.png</td>\n",
       "      <td>91</td>\n",
       "      <td>dll</td>\n",
       "    </tr>\n",
       "    <tr>\n",
       "      <th>3</th>\n",
       "      <td>sys32imgs\\69fe178f-26e7-43a9-aa7d-2b616b672dde...</td>\n",
       "      <td>8379</td>\n",
       "      <td>69fe178f-26e7-43a9-aa7d-2b616b672dde_eventlogs...</td>\n",
       "      <td>.png</td>\n",
       "      <td>91</td>\n",
       "      <td>dll</td>\n",
       "    </tr>\n",
       "    <tr>\n",
       "      <th>4</th>\n",
       "      <td>sys32imgs\\6bea57fb-8dfb-4177-9ae8-42e8b3529933...</td>\n",
       "      <td>8386</td>\n",
       "      <td>6bea57fb-8dfb-4177-9ae8-42e8b3529933_RuntimeDe...</td>\n",
       "      <td>.png</td>\n",
       "      <td>91</td>\n",
       "      <td>dll</td>\n",
       "    </tr>\n",
       "    <tr>\n",
       "      <th>...</th>\n",
       "      <td>...</td>\n",
       "      <td>...</td>\n",
       "      <td>...</td>\n",
       "      <td>...</td>\n",
       "      <td>...</td>\n",
       "      <td>...</td>\n",
       "    </tr>\n",
       "    <tr>\n",
       "      <th>6862</th>\n",
       "      <td>sys32imgs\\{97C9A618-D40C-40EE-8563-8799D0DB987...</td>\n",
       "      <td>8105</td>\n",
       "      <td>{97C9A618-D40C-40EE-8563-8799D0DB9872}~mfencbd...</td>\n",
       "      <td>.png</td>\n",
       "      <td>90</td>\n",
       "      <td>cat</td>\n",
       "    </tr>\n",
       "    <tr>\n",
       "      <th>6863</th>\n",
       "      <td>sys32imgs\\{A6CE337F-CBA5-412D-A06A-D872F2A8F08...</td>\n",
       "      <td>8105</td>\n",
       "      <td>{A6CE337F-CBA5-412D-A06A-D872F2A8F089}~mfencbd...</td>\n",
       "      <td>.png</td>\n",
       "      <td>90</td>\n",
       "      <td>cat</td>\n",
       "    </tr>\n",
       "    <tr>\n",
       "      <th>6864</th>\n",
       "      <td>sys32imgs\\{AC93B605-EEAA-4818-9136-9EDA5489749...</td>\n",
       "      <td>6835</td>\n",
       "      <td>{AC93B605-EEAA-4818-9136-9EDA54897497}~mfencbd...</td>\n",
       "      <td>.png</td>\n",
       "      <td>82</td>\n",
       "      <td>cat</td>\n",
       "    </tr>\n",
       "    <tr>\n",
       "      <th>6865</th>\n",
       "      <td>sys32imgs\\{C03C9921-D1C8-49D2-83C4-162FBC62CCA...</td>\n",
       "      <td>6814</td>\n",
       "      <td>{C03C9921-D1C8-49D2-83C4-162FBC62CCA8}~mfencrk...</td>\n",
       "      <td>.png</td>\n",
       "      <td>82</td>\n",
       "      <td>cat</td>\n",
       "    </tr>\n",
       "    <tr>\n",
       "      <th>6866</th>\n",
       "      <td>sys32imgs\\{C2B58781-FD1F-4930-8577-F0EA9F4C616...</td>\n",
       "      <td>8279</td>\n",
       "      <td>{C2B58781-FD1F-4930-8577-F0EA9F4C6169}~mfencrk...</td>\n",
       "      <td>.png</td>\n",
       "      <td>90</td>\n",
       "      <td>cat</td>\n",
       "    </tr>\n",
       "  </tbody>\n",
       "</table>\n",
       "<p>6867 rows × 6 columns</p>\n",
       "</div>"
      ],
      "text/plain": [
       "                                                   path  size  \\\n",
       "0     sys32imgs\\07409496-a423-4a3e-b620-2cfb01a9318d...  8363   \n",
       "1     sys32imgs\\0ae3b998-9a38-4b72-a4c4-06849441518d...  8383   \n",
       "2     sys32imgs\\4545ffe2-0dc4-4df4-9d02-299ef204635e...  8433   \n",
       "3     sys32imgs\\69fe178f-26e7-43a9-aa7d-2b616b672dde...  8379   \n",
       "4     sys32imgs\\6bea57fb-8dfb-4177-9ae8-42e8b3529933...  8386   \n",
       "...                                                 ...   ...   \n",
       "6862  sys32imgs\\{97C9A618-D40C-40EE-8563-8799D0DB987...  8105   \n",
       "6863  sys32imgs\\{A6CE337F-CBA5-412D-A06A-D872F2A8F08...  8105   \n",
       "6864  sys32imgs\\{AC93B605-EEAA-4818-9136-9EDA5489749...  6835   \n",
       "6865  sys32imgs\\{C03C9921-D1C8-49D2-83C4-162FBC62CCA...  6814   \n",
       "6866  sys32imgs\\{C2B58781-FD1F-4930-8577-F0EA9F4C616...  8279   \n",
       "\n",
       "                                              file_name file_ext  dim  \\\n",
       "0     07409496-a423-4a3e-b620-2cfb01a9318d_HyperV-Co...     .png   91   \n",
       "1     0ae3b998-9a38-4b72-a4c4-06849441518d_Servicing...     .png   91   \n",
       "2     4545ffe2-0dc4-4df4-9d02-299ef204635e_hvsocket....     .png   91   \n",
       "3     69fe178f-26e7-43a9-aa7d-2b616b672dde_eventlogs...     .png   91   \n",
       "4     6bea57fb-8dfb-4177-9ae8-42e8b3529933_RuntimeDe...     .png   91   \n",
       "...                                                 ...      ...  ...   \n",
       "6862  {97C9A618-D40C-40EE-8563-8799D0DB9872}~mfencbd...     .png   90   \n",
       "6863  {A6CE337F-CBA5-412D-A06A-D872F2A8F089}~mfencbd...     .png   90   \n",
       "6864  {AC93B605-EEAA-4818-9136-9EDA54897497}~mfencbd...     .png   82   \n",
       "6865  {C03C9921-D1C8-49D2-83C4-162FBC62CCA8}~mfencrk...     .png   82   \n",
       "6866  {C2B58781-FD1F-4930-8577-F0EA9F4C6169}~mfencrk...     .png   90   \n",
       "\n",
       "     file_type  \n",
       "0          dll  \n",
       "1          dll  \n",
       "2          dll  \n",
       "3          dll  \n",
       "4          dll  \n",
       "...        ...  \n",
       "6862       cat  \n",
       "6863       cat  \n",
       "6864       cat  \n",
       "6865       cat  \n",
       "6866       cat  \n",
       "\n",
       "[6867 rows x 6 columns]"
      ]
     },
     "execution_count": 28,
     "metadata": {},
     "output_type": "execute_result"
    }
   ],
   "source": [
    "sys32imgs_df['file_type'] = sys32imgs_df['path'].apply(lambda x: getFileType(x))\n",
    "sys32imgs_df"
   ]
  },
  {
   "cell_type": "code",
   "execution_count": 29,
   "id": "5d0f9fd9-9a40-49a9-bbaf-e3e67ef3341d",
   "metadata": {
    "tags": []
   },
   "outputs": [
    {
     "data": {
      "text/plain": [
       "dll           3306\n",
       "cat           2283\n",
       "exe            586\n",
       "DLL            223\n",
       "NLS            112\n",
       "              ... \n",
       "pb               1\n",
       "InstallLog       1\n",
       "ime              1\n",
       "wim              1\n",
       "dtd              1\n",
       "Name: file_type, Length: 68, dtype: int64"
      ]
     },
     "execution_count": 29,
     "metadata": {},
     "output_type": "execute_result"
    }
   ],
   "source": [
    "sys32imgs_df.file_type.value_counts()"
   ]
  },
  {
   "cell_type": "code",
   "execution_count": 30,
   "id": "8ee392e2-7340-42ca-ac14-de02cbb4e5e7",
   "metadata": {
    "tags": []
   },
   "outputs": [],
   "source": [
    "sys32imgs_df.to_csv('sys32imgs.csv')"
   ]
  },
  {
   "cell_type": "code",
   "execution_count": 31,
   "id": "ad44cceb-4825-48b7-9306-e394a3cfe13b",
   "metadata": {
    "tags": []
   },
   "outputs": [],
   "source": [
    "df.to_csv('driversimgs.csv')"
   ]
  },
  {
   "cell_type": "markdown",
   "id": "1ab1a3de-acf0-40ab-810a-9753dfb62fdc",
   "metadata": {
    "tags": []
   },
   "source": [
    "## EDA inital Conclusion\n",
    "The lack of samples in the drivers directory caused me to look elswhere for compiled code such as dll and exe. The most common place for compiled code in a Windows system is the System32 directory. I was able find about 3k dll and .5k exe files which is over the minimal threshold of 1k for samples [9]. I will continue on to data sample analysis in my next notebook prior to CNN setup."
   ]
  },
  {
   "cell_type": "markdown",
   "id": "966bcfe7-2729-41f5-b899-0bc5300a494a",
   "metadata": {
    "tags": []
   },
   "source": [
    "### Interesting Discovery\n",
    "While trying to perform some basic EDA on my images I ran into issues with finding dimensions. It seems some of the files are so large that when trying to process them it triggered an exception in the PIL library. The max pixel size can be set to larger if needed. [7]"
   ]
  },
  {
   "cell_type": "code",
   "execution_count": 8,
   "id": "1e3da4bd-2084-49f0-92c5-e81029806d4d",
   "metadata": {
    "tags": []
   },
   "outputs": [],
   "source": [
    "# for f in mt.get_files('imgs'):\n",
    "#     im = Image.open(f.path)\n",
    "#     w, h = im.size\n",
    "#     print(f.path, \"w:\", w, \"h:\", h)"
   ]
  },
  {
   "cell_type": "code",
   "execution_count": 51,
   "id": "4caf188d-d31e-449e-9369-82f100ca34e0",
   "metadata": {
    "tags": []
   },
   "outputs": [],
   "source": [
    "qf = df.query(\"dim > 13377\")"
   ]
  },
  {
   "cell_type": "code",
   "execution_count": 52,
   "id": "a78a88cc-1ce9-46b1-88c7-522202d9e65b",
   "metadata": {
    "tags": []
   },
   "outputs": [
    {
     "name": "stdout",
     "output_type": "stream",
     "text": [
      "<class 'pandas.core.frame.DataFrame'>\n",
      "Int64Index: 1 entries, 1067 to 1067\n",
      "Data columns (total 5 columns):\n",
      " #   Column     Non-Null Count  Dtype \n",
      "---  ------     --------------  ----- \n",
      " 0   path       1 non-null      object\n",
      " 1   size       1 non-null      int64 \n",
      " 2   file_name  1 non-null      object\n",
      " 3   file_ext   1 non-null      object\n",
      " 4   dim        1 non-null      int64 \n",
      "dtypes: int64(2), object(3)\n",
      "memory usage: 48.0+ bytes\n"
     ]
    }
   ],
   "source": [
    "qf.info()"
   ]
  },
  {
   "cell_type": "code",
   "execution_count": 19,
   "id": "9da77b80-b1fe-4e2e-953a-ee55192294ea",
   "metadata": {
    "tags": []
   },
   "outputs": [
    {
     "data": {
      "image/png": "[encoded data removed]",
      "text/plain": [
       "<Figure size 1000x1000 with 1 Axes>"
      ]
     },
     "metadata": {},
     "output_type": "display_data"
    }
   ],
   "source": [
    "# Plot unstacked multiple columns such as population and year from DataFrame\n",
    "df.plot(x=\"path\", y=[\"size\"],\n",
    "        kind=\"bar\", figsize=(10, 10))\n",
    "# Display plot\n",
    "plt.show()"
   ]
  },
  {
   "cell_type": "code",
   "execution_count": 13,
   "id": "dc8ca6f0-6b4b-4fbc-8377-07a808d7589d",
   "metadata": {
    "tags": []
   },
   "outputs": [
    {
     "name": "stderr",
     "output_type": "stream",
     "text": [
      "C:\\Users\\genem\\anaconda3\\Lib\\site-packages\\PIL\\Image.py:3167: DecompressionBombWarning: Image size (111323601 pixels) exceeds limit of 89478485 pixels, could be decompression bomb DOS attack.\n",
      "  warnings.warn(\n",
      "C:\\Users\\genem\\anaconda3\\Lib\\site-packages\\PIL\\Image.py:3167: DecompressionBombWarning: Image size (132457081 pixels) exceeds limit of 89478485 pixels, could be decompression bomb DOS attack.\n",
      "  warnings.warn(\n"
     ]
    },
    {
     "ename": "DecompressionBombError",
     "evalue": "Image size (187142400 pixels) exceeds limit of 178956970 pixels, could be decompression bomb DOS attack.",
     "output_type": "error",
     "traceback": [
      "\u001b[1;31m---------------------------------------------------------------------------\u001b[0m",
      "\u001b[1;31mDecompressionBombError\u001b[0m                    Traceback (most recent call last)",
      "Cell \u001b[1;32mIn[13], line 1\u001b[0m\n\u001b[1;32m----> 1\u001b[0m df[\u001b[38;5;124m'\u001b[39m\u001b[38;5;124mwidth\u001b[39m\u001b[38;5;124m'\u001b[39m] \u001b[38;5;241m=\u001b[39m df\u001b[38;5;241m.\u001b[39mpath\u001b[38;5;241m.\u001b[39mapply(\u001b[38;5;28;01mlambda\u001b[39;00m x: getImageWidthSize(x))\n\u001b[0;32m      2\u001b[0m df\n",
      "File \u001b[1;32m~\\anaconda3\\Lib\\site-packages\\pandas\\core\\series.py:4771\u001b[0m, in \u001b[0;36mSeries.apply\u001b[1;34m(self, func, convert_dtype, args, **kwargs)\u001b[0m\n\u001b[0;32m   4661\u001b[0m \u001b[38;5;28;01mdef\u001b[39;00m \u001b[38;5;21mapply\u001b[39m(\n\u001b[0;32m   4662\u001b[0m     \u001b[38;5;28mself\u001b[39m,\n\u001b[0;32m   4663\u001b[0m     func: AggFuncType,\n\u001b[1;32m   (...)\u001b[0m\n\u001b[0;32m   4666\u001b[0m     \u001b[38;5;241m*\u001b[39m\u001b[38;5;241m*\u001b[39mkwargs,\n\u001b[0;32m   4667\u001b[0m ) \u001b[38;5;241m-\u001b[39m\u001b[38;5;241m>\u001b[39m DataFrame \u001b[38;5;241m|\u001b[39m Series:\n\u001b[0;32m   4668\u001b[0m \u001b[38;5;250m    \u001b[39m\u001b[38;5;124;03m\"\"\"\u001b[39;00m\n\u001b[0;32m   4669\u001b[0m \u001b[38;5;124;03m    Invoke function on values of Series.\u001b[39;00m\n\u001b[0;32m   4670\u001b[0m \n\u001b[1;32m   (...)\u001b[0m\n\u001b[0;32m   4769\u001b[0m \u001b[38;5;124;03m    dtype: float64\u001b[39;00m\n\u001b[0;32m   4770\u001b[0m \u001b[38;5;124;03m    \"\"\"\u001b[39;00m\n\u001b[1;32m-> 4771\u001b[0m     \u001b[38;5;28;01mreturn\u001b[39;00m SeriesApply(\u001b[38;5;28mself\u001b[39m, func, convert_dtype, args, kwargs)\u001b[38;5;241m.\u001b[39mapply()\n",
      "File \u001b[1;32m~\\anaconda3\\Lib\\site-packages\\pandas\\core\\apply.py:1123\u001b[0m, in \u001b[0;36mSeriesApply.apply\u001b[1;34m(self)\u001b[0m\n\u001b[0;32m   1120\u001b[0m     \u001b[38;5;28;01mreturn\u001b[39;00m \u001b[38;5;28mself\u001b[39m\u001b[38;5;241m.\u001b[39mapply_str()\n\u001b[0;32m   1122\u001b[0m \u001b[38;5;66;03m# self.f is Callable\u001b[39;00m\n\u001b[1;32m-> 1123\u001b[0m \u001b[38;5;28;01mreturn\u001b[39;00m \u001b[38;5;28mself\u001b[39m\u001b[38;5;241m.\u001b[39mapply_standard()\n",
      "File \u001b[1;32m~\\anaconda3\\Lib\\site-packages\\pandas\\core\\apply.py:1174\u001b[0m, in \u001b[0;36mSeriesApply.apply_standard\u001b[1;34m(self)\u001b[0m\n\u001b[0;32m   1172\u001b[0m     \u001b[38;5;28;01melse\u001b[39;00m:\n\u001b[0;32m   1173\u001b[0m         values \u001b[38;5;241m=\u001b[39m obj\u001b[38;5;241m.\u001b[39mastype(\u001b[38;5;28mobject\u001b[39m)\u001b[38;5;241m.\u001b[39m_values\n\u001b[1;32m-> 1174\u001b[0m         mapped \u001b[38;5;241m=\u001b[39m lib\u001b[38;5;241m.\u001b[39mmap_infer(\n\u001b[0;32m   1175\u001b[0m             values,\n\u001b[0;32m   1176\u001b[0m             f,\n\u001b[0;32m   1177\u001b[0m             convert\u001b[38;5;241m=\u001b[39m\u001b[38;5;28mself\u001b[39m\u001b[38;5;241m.\u001b[39mconvert_dtype,\n\u001b[0;32m   1178\u001b[0m         )\n\u001b[0;32m   1180\u001b[0m \u001b[38;5;28;01mif\u001b[39;00m \u001b[38;5;28mlen\u001b[39m(mapped) \u001b[38;5;129;01mand\u001b[39;00m \u001b[38;5;28misinstance\u001b[39m(mapped[\u001b[38;5;241m0\u001b[39m], ABCSeries):\n\u001b[0;32m   1181\u001b[0m     \u001b[38;5;66;03m# GH#43986 Need to do list(mapped) in order to get treated as nested\u001b[39;00m\n\u001b[0;32m   1182\u001b[0m     \u001b[38;5;66;03m#  See also GH#25959 regarding EA support\u001b[39;00m\n\u001b[0;32m   1183\u001b[0m     \u001b[38;5;28;01mreturn\u001b[39;00m obj\u001b[38;5;241m.\u001b[39m_constructor_expanddim(\u001b[38;5;28mlist\u001b[39m(mapped), index\u001b[38;5;241m=\u001b[39mobj\u001b[38;5;241m.\u001b[39mindex)\n",
      "File \u001b[1;32m~\\anaconda3\\Lib\\site-packages\\pandas\\_libs\\lib.pyx:2924\u001b[0m, in \u001b[0;36mpandas._libs.lib.map_infer\u001b[1;34m()\u001b[0m\n",
      "Cell \u001b[1;32mIn[13], line 1\u001b[0m, in \u001b[0;36m<lambda>\u001b[1;34m(x)\u001b[0m\n\u001b[1;32m----> 1\u001b[0m df[\u001b[38;5;124m'\u001b[39m\u001b[38;5;124mwidth\u001b[39m\u001b[38;5;124m'\u001b[39m] \u001b[38;5;241m=\u001b[39m df\u001b[38;5;241m.\u001b[39mpath\u001b[38;5;241m.\u001b[39mapply(\u001b[38;5;28;01mlambda\u001b[39;00m x: getImageWidthSize(x))\n\u001b[0;32m      2\u001b[0m df\n",
      "Cell \u001b[1;32mIn[12], line 2\u001b[0m, in \u001b[0;36mgetImageWidthSize\u001b[1;34m(path)\u001b[0m\n\u001b[0;32m      1\u001b[0m \u001b[38;5;28;01mdef\u001b[39;00m \u001b[38;5;21mgetImageWidthSize\u001b[39m(path):\n\u001b[1;32m----> 2\u001b[0m     im \u001b[38;5;241m=\u001b[39m Image\u001b[38;5;241m.\u001b[39mopen(path)\n\u001b[0;32m      3\u001b[0m     w, h \u001b[38;5;241m=\u001b[39m im\u001b[38;5;241m.\u001b[39msize\n\u001b[0;32m      4\u001b[0m     \u001b[38;5;28;01mreturn\u001b[39;00m w\n",
      "File \u001b[1;32m~\\anaconda3\\Lib\\site-packages\\PIL\\Image.py:3268\u001b[0m, in \u001b[0;36mopen\u001b[1;34m(fp, mode, formats)\u001b[0m\n\u001b[0;32m   3265\u001b[0m             \u001b[38;5;28;01mraise\u001b[39;00m\n\u001b[0;32m   3266\u001b[0m     \u001b[38;5;28;01mreturn\u001b[39;00m \u001b[38;5;28;01mNone\u001b[39;00m\n\u001b[1;32m-> 3268\u001b[0m im \u001b[38;5;241m=\u001b[39m _open_core(fp, filename, prefix, formats)\n\u001b[0;32m   3270\u001b[0m \u001b[38;5;28;01mif\u001b[39;00m im \u001b[38;5;129;01mis\u001b[39;00m \u001b[38;5;28;01mNone\u001b[39;00m:\n\u001b[0;32m   3271\u001b[0m     \u001b[38;5;28;01mif\u001b[39;00m init():\n",
      "File \u001b[1;32m~\\anaconda3\\Lib\\site-packages\\PIL\\Image.py:3255\u001b[0m, in \u001b[0;36mopen.<locals>._open_core\u001b[1;34m(fp, filename, prefix, formats)\u001b[0m\n\u001b[0;32m   3253\u001b[0m         fp\u001b[38;5;241m.\u001b[39mseek(\u001b[38;5;241m0\u001b[39m)\n\u001b[0;32m   3254\u001b[0m         im \u001b[38;5;241m=\u001b[39m factory(fp, filename)\n\u001b[1;32m-> 3255\u001b[0m         _decompression_bomb_check(im\u001b[38;5;241m.\u001b[39msize)\n\u001b[0;32m   3256\u001b[0m         \u001b[38;5;28;01mreturn\u001b[39;00m im\n\u001b[0;32m   3257\u001b[0m \u001b[38;5;28;01mexcept\u001b[39;00m (\u001b[38;5;167;01mSyntaxError\u001b[39;00m, \u001b[38;5;167;01mIndexError\u001b[39;00m, \u001b[38;5;167;01mTypeError\u001b[39;00m, struct\u001b[38;5;241m.\u001b[39merror):\n\u001b[0;32m   3258\u001b[0m     \u001b[38;5;66;03m# Leave disabled by default, spams the logs with image\u001b[39;00m\n\u001b[0;32m   3259\u001b[0m     \u001b[38;5;66;03m# opening failures that are entirely expected.\u001b[39;00m\n\u001b[0;32m   3260\u001b[0m     \u001b[38;5;66;03m# logger.debug(\"\", exc_info=True)\u001b[39;00m\n",
      "File \u001b[1;32m~\\anaconda3\\Lib\\site-packages\\PIL\\Image.py:3164\u001b[0m, in \u001b[0;36m_decompression_bomb_check\u001b[1;34m(size)\u001b[0m\n\u001b[0;32m   3159\u001b[0m \u001b[38;5;28;01mif\u001b[39;00m pixels \u001b[38;5;241m>\u001b[39m \u001b[38;5;241m2\u001b[39m \u001b[38;5;241m*\u001b[39m MAX_IMAGE_PIXELS:\n\u001b[0;32m   3160\u001b[0m     msg \u001b[38;5;241m=\u001b[39m (\n\u001b[0;32m   3161\u001b[0m         \u001b[38;5;124mf\u001b[39m\u001b[38;5;124m\"\u001b[39m\u001b[38;5;124mImage size (\u001b[39m\u001b[38;5;132;01m{\u001b[39;00mpixels\u001b[38;5;132;01m}\u001b[39;00m\u001b[38;5;124m pixels) exceeds limit of \u001b[39m\u001b[38;5;132;01m{\u001b[39;00m\u001b[38;5;241m2\u001b[39m\u001b[38;5;250m \u001b[39m\u001b[38;5;241m*\u001b[39m\u001b[38;5;250m \u001b[39mMAX_IMAGE_PIXELS\u001b[38;5;132;01m}\u001b[39;00m\u001b[38;5;124m \u001b[39m\u001b[38;5;124m\"\u001b[39m\n\u001b[0;32m   3162\u001b[0m         \u001b[38;5;124m\"\u001b[39m\u001b[38;5;124mpixels, could be decompression bomb DOS attack.\u001b[39m\u001b[38;5;124m\"\u001b[39m\n\u001b[0;32m   3163\u001b[0m     )\n\u001b[1;32m-> 3164\u001b[0m     \u001b[38;5;28;01mraise\u001b[39;00m DecompressionBombError(msg)\n\u001b[0;32m   3166\u001b[0m \u001b[38;5;28;01mif\u001b[39;00m pixels \u001b[38;5;241m>\u001b[39m MAX_IMAGE_PIXELS:\n\u001b[0;32m   3167\u001b[0m     warnings\u001b[38;5;241m.\u001b[39mwarn(\n\u001b[0;32m   3168\u001b[0m         \u001b[38;5;124mf\u001b[39m\u001b[38;5;124m\"\u001b[39m\u001b[38;5;124mImage size (\u001b[39m\u001b[38;5;132;01m{\u001b[39;00mpixels\u001b[38;5;132;01m}\u001b[39;00m\u001b[38;5;124m pixels) exceeds limit of \u001b[39m\u001b[38;5;132;01m{\u001b[39;00mMAX_IMAGE_PIXELS\u001b[38;5;132;01m}\u001b[39;00m\u001b[38;5;124m pixels, \u001b[39m\u001b[38;5;124m\"\u001b[39m\n\u001b[0;32m   3169\u001b[0m         \u001b[38;5;124m\"\u001b[39m\u001b[38;5;124mcould be decompression bomb DOS attack.\u001b[39m\u001b[38;5;124m\"\u001b[39m,\n\u001b[0;32m   3170\u001b[0m         DecompressionBombWarning,\n\u001b[0;32m   3171\u001b[0m     )\n",
      "\u001b[1;31mDecompressionBombError\u001b[0m: Image size (187142400 pixels) exceeds limit of 178956970 pixels, could be decompression bomb DOS attack."
     ]
    }
   ],
   "source": [
    "# df['width'] = df.path.apply(lambda x: getImageWidthSize(x))\n",
    "# df\n"
   ]
  },
  {
   "cell_type": "code",
   "execution_count": 49,
   "id": "74beae13-4aa5-4f9e-9442-bf12c86a769c",
   "metadata": {
    "tags": []
   },
   "outputs": [
    {
     "data": {
      "text/plain": [
       "13377.479957002364"
      ]
     },
     "execution_count": 49,
     "metadata": {},
     "output_type": "execute_result"
    }
   ],
   "source": [
    "math.sqrt(178956970)"
   ]
  },
  {
   "cell_type": "markdown",
   "id": "ae6cf7cd-c8aa-4343-95e3-ab40c1a24b9a",
   "metadata": {},
   "source": [
    "# Reference\n",
    "1 Hsiao, S.-C., Kao, D.-Y., Liu, Z.-Y., & Tso, R. (2019). Malware image classification using one-shot learning with Siamese networks. Procedia Computer Science, 159, 1863–1871. https://doi.org/10.1016/j.procs.2019.09.358\n",
    "\n",
    "2 Bensaoud, A., & Kalita, J. (2022). Deep multi-task learning for malware image classification. Journal of Information Security and Applications, 64(103057), 103057. https://doi.org/10.1016/j.jisa.2021.103057\n",
    "\n",
    "3 Kumar, S., Janet, B., & Neelakantan, S. (2024). IMCNN:Intelligent Malware Classification using Deep Convolution Neural Networks as Transfer learning and ensemble learning in honeypot enabled organizational network. Computer Communications, 216, 16–33. https://doi.org/10.1016/j.comcom.2023.12.036\n",
    "\n",
    "4 AHMAD AZAB , (Member, IEEE), AND MAHMOUD KHASAWNEH , (Member, IEEE). (2020, June 1). MSIC: Malware Spectrogram Image Classification. Ieee.Org. https://ieeexplore.ieee.org/stamp/stamp.jsp?tp=&arnumber=9104999"
   ]
  },
  {
   "cell_type": "code",
   "execution_count": null,
   "id": "aed2f373-0f18-455c-bb71-b296b45eec60",
   "metadata": {},
   "outputs": [],
   "source": []
  }
 ],
 "metadata": {
  "kernelspec": {
   "display_name": "Python 3 (ipykernel)",
   "language": "python",
   "name": "python3"
  },
  "language_info": {
   "codemirror_mode": {
    "name": "ipython",
    "version": 3
   },
   "file_extension": ".py",
   "mimetype": "text/x-python",
   "name": "python",
   "nbconvert_exporter": "python",
   "pygments_lexer": "ipython3",
   "version": "3.11.4"
  }
 },
 "nbformat": 4,
 "nbformat_minor": 5
}
